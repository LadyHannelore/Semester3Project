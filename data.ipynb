{
 "cells": [
  {
   "cell_type": "markdown",
   "id": "1a9f15cd",
   "metadata": {},
   "source": [
    "Imports and Configuration"
   ]
  },
  {
   "cell_type": "code",
   "execution_count": 10,
   "id": "7280e3f3",
   "metadata": {},
   "outputs": [],
   "source": [
    "import pandas as pd\n",
    "import numpy as np\n",
    "import random\n",
    "\n",
    "# --- Configuration ---\n",
    "NUM_STUDENTS = 10000\n",
    "OUTPUT_CSV_FILE = \"synthetic_student_data.csv\"\n",
    "\n",
    "# Define possible scales based on survey info\n",
    "LIKERT_SCALE_1_7 = list(range(1, 8))  # e.g., Strongly Disagree to Strongly Agree\n",
    "K6_SCALE_1_5 = list(range(1, 6))      # Frequency scale for K6 questions\n",
    "LANGUAGE_SCALE = [0, 1]               # 0: English only, 1: Other/Mixed\n",
    "PWI_SCALE = list(range(0, 11))        # 0-10 scale for PWI Wellbeing\n",
    "\n",
    "# Possible school activities\n",
    "SCHOOL_ACTIVITIES = [\n",
    "    'Debate Club', 'Sports Team', 'Music Band', 'Art Club',\n",
    "    'Chess Club', 'Volunteering', 'Drama Club', 'Science Club',\n",
    "    'Student Government', 'Photography Club'\n",
    "]"
   ]
  },
  {
   "cell_type": "markdown",
   "id": "f0ef2054",
   "metadata": {},
   "source": [
    "Generate Student IDs"
   ]
  },
  {
   "cell_type": "code",
   "execution_count": 11,
   "id": "e0f94fc8",
   "metadata": {},
   "outputs": [],
   "source": [
    "def generate_student_ids(n):\n",
    "  \"\"\"Generates a list of unique student IDs with 5-digit padding.\"\"\"\n",
    "  return [f\"S{i:05d}\" for i in range(1, n + 1)]  # Changed to 5-digit format"
   ]
  },
  {
   "cell_type": "markdown",
   "id": "a8877301",
   "metadata": {},
   "source": [
    "Generate Network Links"
   ]
  },
  {
   "cell_type": "code",
   "execution_count": 12,
   "id": "f0d44773",
   "metadata": {},
   "outputs": [],
   "source": [
    "def generate_network_links(student_id, all_ids, max_links=5):\n",
    "    \"\"\"Generates a list of random peer IDs for network questions.\"\"\"\n",
    "    possible_peers = [pid for pid in all_ids if pid != student_id]\n",
    "    num_links = random.randint(0, max_links)\n",
    "    selected_peers = random.sample(possible_peers, min(num_links, len(possible_peers)))\n",
    "    return \", \".join(selected_peers)  # Store as comma-separated string"
   ]
  },
  {
   "cell_type": "markdown",
   "id": "39b56c42",
   "metadata": {},
   "source": [
    "Generate Activities"
   ]
  },
  {
   "cell_type": "code",
   "execution_count": 13,
   "id": "bf8a2798",
   "metadata": {},
   "outputs": [],
   "source": [
    "def generate_activities(max_activities=3):\n",
    "    \"\"\"Generates a list of random activities.\"\"\"\n",
    "    num_activities = random.randint(0, max_activities)\n",
    "    selected_activities = random.sample(SCHOOL_ACTIVITIES, num_activities)\n",
    "    return \", \".join(selected_activities)"
   ]
  },
  {
   "cell_type": "markdown",
   "id": "22466c52",
   "metadata": {},
   "source": [
    "Generate Synthetic Data"
   ]
  },
  {
   "cell_type": "code",
   "execution_count": 14,
   "id": "1c87df6b",
   "metadata": {},
   "outputs": [],
   "source": [
    "def generate_synthetic_data(num_students):\n",
    "    \"\"\"Generates synthetic student data.\"\"\"\n",
    "    student_ids = generate_student_ids(num_students)\n",
    "    data = []\n",
    "\n",
    "    print(f\"Generating data for {num_students} students...\")\n",
    "\n",
    "    for student_id in student_ids:\n",
    "        # Academic Performance (Synthesized - normally distributed around 70)\n",
    "        academic_performance = max(0, min(100, round(np.random.normal(70, 15))))\n",
    "\n",
    "        # Generate survey responses\n",
    "        manbox5_scores = {f\"Manbox5_{i}\": random.choice(LIKERT_SCALE_1_7) for i in range(1, 6)}\n",
    "        k6_scores = {f\"k6_{i}\": random.choice(K6_SCALE_1_5) for i in range(1, 7)}\n",
    "\n",
    "        # Other Likert-scale questions\n",
    "        isolated = random.choice(LIKERT_SCALE_1_7)\n",
    "        women_different = random.choice(LIKERT_SCALE_1_7)\n",
    "        covid_worried = random.choice(LIKERT_SCALE_1_7)\n",
    "        criticises = random.choice(LIKERT_SCALE_1_7)\n",
    "        men_better_stem = random.choice(LIKERT_SCALE_1_7)\n",
    "        intelligence1 = random.choice(LIKERT_SCALE_1_7)\n",
    "        intelligence2 = random.choice(LIKERT_SCALE_1_7)\n",
    "        soft = random.choice(LIKERT_SCALE_1_7)\n",
    "        opinion = random.choice(LIKERT_SCALE_1_7)\n",
    "        nerds = random.choice(LIKERT_SCALE_1_7)\n",
    "        comfortable = random.choice(LIKERT_SCALE_1_7)\n",
    "        future = random.choice(LIKERT_SCALE_1_7)\n",
    "        bullying = random.choice(LIKERT_SCALE_1_7)\n",
    "\n",
    "        # Categorical / Specific Scales\n",
    "        language = random.choices(LANGUAGE_SCALE, weights=[0.8, 0.2], k=1)[0]\n",
    "        pwi_wellbeing = random.choice(PWI_SCALE)\n",
    "\n",
    "        # Network Questions\n",
    "        friends = generate_network_links(student_id, student_ids, max_links=7)\n",
    "        influential = generate_network_links(student_id, student_ids, max_links=5)\n",
    "        feedback = generate_network_links(student_id, student_ids, max_links=4)\n",
    "        more_time = generate_network_links(student_id, student_ids, max_links=6)\n",
    "        advice = generate_network_links(student_id, student_ids, max_links=4)\n",
    "        disrespect = generate_network_links(student_id, student_ids, max_links=3)\n",
    "\n",
    "        # Activities\n",
    "        school_activity_net = generate_activities(max_activities=3)\n",
    "\n",
    "        # Store data\n",
    "        student_data = {\n",
    "            \"StudentID\": student_id,\n",
    "            \"Academic_Performance\": academic_performance,\n",
    "            \"isolated\": isolated,\n",
    "            \"WomenDifferent\": women_different,\n",
    "            \"language\": language,\n",
    "            \"COVID\": covid_worried,\n",
    "            \"criticises\": criticises,\n",
    "            \"MenBetterSTEM\": men_better_stem,\n",
    "            \"pwi_wellbeing\": pwi_wellbeing,\n",
    "            \"Intelligence1\": intelligence1,\n",
    "            \"Intelligence2\": intelligence2,\n",
    "            \"Soft\": soft,\n",
    "            \"opinion\": opinion,\n",
    "            \"Nerds\": nerds,\n",
    "            \"comfortable\": comfortable,\n",
    "            \"future\": future,\n",
    "            \"bullying\": bullying,\n",
    "            \"Friends\": friends,\n",
    "            \"Influential\": influential,\n",
    "            \"Feedback\": feedback,\n",
    "            \"MoreTime\": more_time,\n",
    "            \"Advice\": advice,\n",
    "            \"Disrespect\": disrespect,\n",
    "            \"SchoolActivityNet\": school_activity_net,\n",
    "            **manbox5_scores,\n",
    "            **k6_scores,\n",
    "        }\n",
    "        data.append(student_data)\n",
    "\n",
    "    return pd.DataFrame(data)"
   ]
  },
  {
   "cell_type": "markdown",
   "id": "9661f1ec",
   "metadata": {},
   "source": [
    "Derived Fields Calculation"
   ]
  },
  {
   "cell_type": "code",
   "execution_count": 15,
   "id": "4ec3aa25",
   "metadata": {},
   "outputs": [],
   "source": [
    "def calculate_derived_fields(df):\n",
    "    \"\"\"Calculates derived fields based on survey expressions.\"\"\"\n",
    "    # Manbox5_overall\n",
    "    df['Manbox5_overall'] = df[[f\"Manbox5_{i}\" for i in range(1, 6)]].mean(axis=1)\n",
    "\n",
    "    # Masculinity_contrained\n",
    "    df['Masculinity_contrained'] = df[['Soft', 'WomenDifferent', 'Nerds', 'MenBetterSTEM']].mean(axis=1)\n",
    "\n",
    "    # GrowthMindset\n",
    "    df['GrowthMindset'] = ((8.0 - df['Intelligence1']) + (8.0 - df['Intelligence2'])) / 2.0\n",
    "\n",
    "    # k6_overall\n",
    "    df['k6_overall'] = df[[f\"k6_{i}\" for i in range(1, 7)]].sum(axis=1)\n",
    "\n",
    "    # School_support_engage6\n",
    "    df['School_support_engage6'] = (\n",
    "        (8.0 - df['isolated']) +\n",
    "        (8.0 - df['opinion']) +\n",
    "        df['criticises'] +\n",
    "        df['comfortable'] +\n",
    "        df['bullying'] +\n",
    "        df['future']\n",
    "    ) / 6.0\n",
    "\n",
    "    # School_support_engage\n",
    "    df['School_support_engage'] = df[['criticises', 'comfortable', 'bullying', 'future']].mean(axis=1)\n",
    "\n",
    "    return df"
   ]
  },
  {
   "cell_type": "markdown",
   "id": "d89459ce",
   "metadata": {},
   "source": [
    "Save to CSV"
   ]
  },
  {
   "cell_type": "code",
   "execution_count": 16,
   "id": "c0098d5e",
   "metadata": {},
   "outputs": [],
   "source": [
    "def save_to_csv(df, output_file):\n",
    "    \"\"\"Saves the DataFrame to a CSV file.\"\"\"\n",
    "    print(f\"Saving data to {output_file}...\")\n",
    "    df.to_csv(output_file, index=False)\n",
    "    print(\"Data saved successfully.\")"
   ]
  },
  {
   "cell_type": "markdown",
   "id": "5c2b013a",
   "metadata": {},
   "source": [
    "Execution"
   ]
  },
  {
   "cell_type": "code",
   "execution_count": 17,
   "id": "1afc74a2",
   "metadata": {},
   "outputs": [
    {
     "name": "stdout",
     "output_type": "stream",
     "text": [
      "Generating data for 10000 students...\n",
      "Saving data to synthetic_student_data.csv...\n",
      "Data saved successfully.\n",
      "Synthetic data generation complete.\n",
      "Generated 10000 student records.\n",
      "  StudentID  Academic_Performance  isolated  WomenDifferent  language  COVID  \\\n",
      "0    S00001                    77         7               7         0      2   \n",
      "1    S00002                    69         1               6         0      3   \n",
      "2    S00003                    83         7               7         1      1   \n",
      "3    S00004                    67         6               7         1      4   \n",
      "4    S00005                    51         4               4         0      4   \n",
      "\n",
      "   criticises  MenBetterSTEM  pwi_wellbeing  Intelligence1  ...  k6_3  k6_4  \\\n",
      "0           6              7              1              4  ...     2     4   \n",
      "1           7              6              5              4  ...     3     3   \n",
      "2           7              4              2              5  ...     1     1   \n",
      "3           1              6              8              3  ...     5     2   \n",
      "4           1              4              9              5  ...     4     3   \n",
      "\n",
      "   k6_5  k6_6  Manbox5_overall  Masculinity_contrained  GrowthMindset  \\\n",
      "0     5     5              3.0                    5.50            4.5   \n",
      "1     4     1              5.4                    6.00            3.0   \n",
      "2     5     1              2.2                    4.75            2.0   \n",
      "3     2     3              4.6                    5.00            3.0   \n",
      "4     1     5              2.2                    4.50            3.0   \n",
      "\n",
      "  k6_overall School_support_engage6 School_support_engage  \n",
      "0         22               3.833333                  5.00  \n",
      "1         17               6.166667                  6.25  \n",
      "2         14               3.333333                  4.50  \n",
      "3         20               2.833333                  3.00  \n",
      "4         19               3.833333                  3.00  \n",
      "\n",
      "[5 rows x 41 columns]\n",
      "\n",
      "Column Info:\n",
      "<class 'pandas.core.frame.DataFrame'>\n",
      "RangeIndex: 10000 entries, 0 to 9999\n",
      "Data columns (total 41 columns):\n",
      " #   Column                  Non-Null Count  Dtype  \n",
      "---  ------                  --------------  -----  \n",
      " 0   StudentID               10000 non-null  object \n",
      " 1   Academic_Performance    10000 non-null  int64  \n",
      " 2   isolated                10000 non-null  int64  \n",
      " 3   WomenDifferent          10000 non-null  int64  \n",
      " 4   language                10000 non-null  int64  \n",
      " 5   COVID                   10000 non-null  int64  \n",
      " 6   criticises              10000 non-null  int64  \n",
      " 7   MenBetterSTEM           10000 non-null  int64  \n",
      " 8   pwi_wellbeing           10000 non-null  int64  \n",
      " 9   Intelligence1           10000 non-null  int64  \n",
      " 10  Intelligence2           10000 non-null  int64  \n",
      " 11  Soft                    10000 non-null  int64  \n",
      " 12  opinion                 10000 non-null  int64  \n",
      " 13  Nerds                   10000 non-null  int64  \n",
      " 14  comfortable             10000 non-null  int64  \n",
      " 15  future                  10000 non-null  int64  \n",
      " 16  bullying                10000 non-null  int64  \n",
      " 17  Friends                 10000 non-null  object \n",
      " 18  Influential             10000 non-null  object \n",
      " 19  Feedback                10000 non-null  object \n",
      " 20  MoreTime                10000 non-null  object \n",
      " 21  Advice                  10000 non-null  object \n",
      " 22  Disrespect              10000 non-null  object \n",
      " 23  SchoolActivityNet       10000 non-null  object \n",
      " 24  Manbox5_1               10000 non-null  int64  \n",
      " 25  Manbox5_2               10000 non-null  int64  \n",
      " 26  Manbox5_3               10000 non-null  int64  \n",
      " 27  Manbox5_4               10000 non-null  int64  \n",
      " 28  Manbox5_5               10000 non-null  int64  \n",
      " 29  k6_1                    10000 non-null  int64  \n",
      " 30  k6_2                    10000 non-null  int64  \n",
      " 31  k6_3                    10000 non-null  int64  \n",
      " 32  k6_4                    10000 non-null  int64  \n",
      " 33  k6_5                    10000 non-null  int64  \n",
      " 34  k6_6                    10000 non-null  int64  \n",
      " 35  Manbox5_overall         10000 non-null  float64\n",
      " 36  Masculinity_contrained  10000 non-null  float64\n",
      " 37  GrowthMindset           10000 non-null  float64\n",
      " 38  k6_overall              10000 non-null  int64  \n",
      " 39  School_support_engage6  10000 non-null  float64\n",
      " 40  School_support_engage   10000 non-null  float64\n",
      "dtypes: float64(5), int64(28), object(8)\n",
      "memory usage: 3.1+ MB\n"
     ]
    }
   ],
   "source": [
    "# Generate synthetic data\n",
    "df = generate_synthetic_data(NUM_STUDENTS)\n",
    "\n",
    "# Calculate derived fields\n",
    "df = calculate_derived_fields(df)\n",
    "\n",
    "# Save to CSV\n",
    "save_to_csv(df, OUTPUT_CSV_FILE)\n",
    "\n",
    "# Display summary\n",
    "print(\"Synthetic data generation complete.\")\n",
    "print(f\"Generated {len(df)} student records.\")\n",
    "print(df.head())\n",
    "print(\"\\nColumn Info:\")\n",
    "df.info()"
   ]
  }
 ],
 "metadata": {
  "kernelspec": {
   "display_name": "base",
   "language": "python",
   "name": "python3"
  },
  "language_info": {
   "codemirror_mode": {
    "name": "ipython",
    "version": 3
   },
   "file_extension": ".py",
   "mimetype": "text/x-python",
   "name": "python",
   "nbconvert_exporter": "python",
   "pygments_lexer": "ipython3",
   "version": "3.12.7"
  }
 },
 "nbformat": 4,
 "nbformat_minor": 5
}
