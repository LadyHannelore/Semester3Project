{
 "cells": [
  {
   "cell_type": "markdown",
   "id": "aa22423e",
   "metadata": {},
   "source": [
    "# Approach 2: Stratified Sampling\n",
    "Ensure each class mirrors the overall distribution of critical attributes (e.g., academic performance, language, wellbeing).\n",
    "\n",
    "Steps:\n",
    "Define Strata:\n",
    "\n",
    "Create strata based on key attributes (e.g., Academic_Performance quartiles, language, k6_overall)."
   ]
  },
  {
   "cell_type": "code",
   "execution_count": 1,
   "id": "c7628c15",
   "metadata": {},
   "outputs": [
    {
     "ename": "NameError",
     "evalue": "name 'pd' is not defined",
     "output_type": "error",
     "traceback": [
      "\u001b[1;31m---------------------------------------------------------------------------\u001b[0m",
      "\u001b[1;31mNameError\u001b[0m                                 Traceback (most recent call last)",
      "Cell \u001b[1;32mIn[1], line 2\u001b[0m\n\u001b[0;32m      1\u001b[0m \u001b[38;5;66;03m# Create strata labels\u001b[39;00m\n\u001b[1;32m----> 2\u001b[0m df[\u001b[38;5;124m'\u001b[39m\u001b[38;5;124mAcademic_Quartile\u001b[39m\u001b[38;5;124m'\u001b[39m] \u001b[38;5;241m=\u001b[39m \u001b[43mpd\u001b[49m\u001b[38;5;241m.\u001b[39mqcut(df[\u001b[38;5;124m'\u001b[39m\u001b[38;5;124mAcademic_Performance\u001b[39m\u001b[38;5;124m'\u001b[39m], q\u001b[38;5;241m=\u001b[39m\u001b[38;5;241m4\u001b[39m, labels\u001b[38;5;241m=\u001b[39m\u001b[38;5;28;01mFalse\u001b[39;00m)\n\u001b[0;32m      3\u001b[0m df[\u001b[38;5;124m'\u001b[39m\u001b[38;5;124mWellbeing_Quartile\u001b[39m\u001b[38;5;124m'\u001b[39m] \u001b[38;5;241m=\u001b[39m pd\u001b[38;5;241m.\u001b[39mqcut(df[\u001b[38;5;124m'\u001b[39m\u001b[38;5;124mpwi_wellbeing\u001b[39m\u001b[38;5;124m'\u001b[39m], q\u001b[38;5;241m=\u001b[39m\u001b[38;5;241m4\u001b[39m, labels\u001b[38;5;241m=\u001b[39m\u001b[38;5;28;01mFalse\u001b[39;00m)\n\u001b[0;32m      4\u001b[0m df[\u001b[38;5;124m'\u001b[39m\u001b[38;5;124mStratum\u001b[39m\u001b[38;5;124m'\u001b[39m] \u001b[38;5;241m=\u001b[39m df\u001b[38;5;241m.\u001b[39mapply(\u001b[38;5;28;01mlambda\u001b[39;00m x: \u001b[38;5;124mf\u001b[39m\u001b[38;5;124m\"\u001b[39m\u001b[38;5;132;01m{\u001b[39;00mx[\u001b[38;5;124m'\u001b[39m\u001b[38;5;124mlanguage\u001b[39m\u001b[38;5;124m'\u001b[39m]\u001b[38;5;132;01m}\u001b[39;00m\u001b[38;5;124m_\u001b[39m\u001b[38;5;132;01m{\u001b[39;00mx[\u001b[38;5;124m'\u001b[39m\u001b[38;5;124mAcademic_Quartile\u001b[39m\u001b[38;5;124m'\u001b[39m]\u001b[38;5;132;01m}\u001b[39;00m\u001b[38;5;124m_\u001b[39m\u001b[38;5;132;01m{\u001b[39;00mx[\u001b[38;5;124m'\u001b[39m\u001b[38;5;124mWellbeing_Quartile\u001b[39m\u001b[38;5;124m'\u001b[39m]\u001b[38;5;132;01m}\u001b[39;00m\u001b[38;5;124m\"\u001b[39m, axis\u001b[38;5;241m=\u001b[39m\u001b[38;5;241m1\u001b[39m)\n",
      "\u001b[1;31mNameError\u001b[0m: name 'pd' is not defined"
     ]
    }
   ],
   "source": [
    "# Create strata labels\n",
    "df['Academic_Quartile'] = pd.qcut(df['Academic_Performance'], q=4, labels=False)\n",
    "df['Wellbeing_Quartile'] = pd.qcut(df['pwi_wellbeing'], q=4, labels=False)\n",
    "df['Stratum'] = df.apply(lambda x: f\"{x['language']}_{x['Academic_Quartile']}_{x['Wellbeing_Quartile']}\", axis=1)"
   ]
  },
  {
   "cell_type": "markdown",
   "id": "2a6b605d",
   "metadata": {},
   "source": [
    "Assign Students to Classes:\n",
    "\n",
    "Use proportional stratified sampling to assign students to classes."
   ]
  },
  {
   "cell_type": "code",
   "execution_count": null,
   "id": "8a72e95d",
   "metadata": {},
   "outputs": [
    {
     "name": "stderr",
     "output_type": "stream",
     "text": [
      "c:\\ProgramData\\anaconda3\\Lib\\site-packages\\sklearn\\model_selection\\_split.py:776: UserWarning: The least populated class in y has only 81 members, which is less than n_splits=334.\n",
      "  warnings.warn(\n"
     ]
    }
   ],
   "source": [
    "from sklearn.model_selection import StratifiedKFold\n",
    "\n",
    "# Split students into classes while preserving strata distribution\n",
    "skf = StratifiedKFold(n_splits=n_clusters, shuffle=True, random_state=42)\n",
    "df[\"Class\"] = -1\n",
    "\n",
    "for fold, (_, test_idx) in enumerate(skf.split(df, df[\"Stratum\"])):\n",
    "    df.loc[test_idx, \"Class\"] = fold"
   ]
  },
  {
   "cell_type": "markdown",
   "id": "1ffe97f9",
   "metadata": {},
   "source": [
    "Adjust Class Sizes:\n",
    "\n",
    "Merge small classes or split large ones to enforce a maximum of 30 students."
   ]
  },
  {
   "cell_type": "code",
   "execution_count": null,
   "id": "58a72bc7",
   "metadata": {},
   "outputs": [],
   "source": [
    "# Example: Split oversized classes\n",
    "for class_id in df[\"Class\"].unique():\n",
    "    class_size = (df[\"Class\"] == class_id).sum()\n",
    "    if class_size > 30:\n",
    "        excess = class_size - 30\n",
    "        students_to_move = df[df[\"Class\"] == class_id].sample(excess, random_state=42)\n",
    "        df.loc[students_to_move.index, \"Class\"] = df[\"Class\"].max() + 1"
   ]
  },
  {
   "cell_type": "markdown",
   "id": "7cf6e7b5",
   "metadata": {},
   "source": [
    "Final Output\n",
    "Each student will have a Class column indicating their assigned class:"
   ]
  },
  {
   "cell_type": "code",
   "execution_count": null,
   "id": "5a467a74",
   "metadata": {},
   "outputs": [
    {
     "data": {
      "text/html": [
       "<div>\n",
       "<style scoped>\n",
       "    .dataframe tbody tr th:only-of-type {\n",
       "        vertical-align: middle;\n",
       "    }\n",
       "\n",
       "    .dataframe tbody tr th {\n",
       "        vertical-align: top;\n",
       "    }\n",
       "\n",
       "    .dataframe thead th {\n",
       "        text-align: right;\n",
       "    }\n",
       "</style>\n",
       "<table border=\"1\" class=\"dataframe\">\n",
       "  <thead>\n",
       "    <tr style=\"text-align: right;\">\n",
       "      <th></th>\n",
       "      <th>StudentID</th>\n",
       "      <th>Class</th>\n",
       "    </tr>\n",
       "  </thead>\n",
       "  <tbody>\n",
       "    <tr>\n",
       "      <th>0</th>\n",
       "      <td>S00001</td>\n",
       "      <td>115</td>\n",
       "    </tr>\n",
       "    <tr>\n",
       "      <th>1</th>\n",
       "      <td>S00002</td>\n",
       "      <td>138</td>\n",
       "    </tr>\n",
       "    <tr>\n",
       "      <th>2</th>\n",
       "      <td>S00003</td>\n",
       "      <td>161</td>\n",
       "    </tr>\n",
       "    <tr>\n",
       "      <th>3</th>\n",
       "      <td>S00004</td>\n",
       "      <td>14</td>\n",
       "    </tr>\n",
       "    <tr>\n",
       "      <th>4</th>\n",
       "      <td>S00005</td>\n",
       "      <td>54</td>\n",
       "    </tr>\n",
       "  </tbody>\n",
       "</table>\n",
       "</div>"
      ],
      "text/plain": [
       "  StudentID  Class\n",
       "0    S00001    115\n",
       "1    S00002    138\n",
       "2    S00003    161\n",
       "3    S00004     14\n",
       "4    S00005     54"
      ]
     },
     "metadata": {},
     "output_type": "display_data"
    }
   ],
   "source": [
    "df[[\"StudentID\", \"Class\"]].head()"
   ]
  }
 ],
 "metadata": {
  "kernelspec": {
   "display_name": "base",
   "language": "python",
   "name": "python3"
  },
  "language_info": {
   "codemirror_mode": {
    "name": "ipython",
    "version": 3
   },
   "file_extension": ".py",
   "mimetype": "text/x-python",
   "name": "python",
   "nbconvert_exporter": "python",
   "pygments_lexer": "ipython3",
   "version": "3.12.7"
  }
 },
 "nbformat": 4,
 "nbformat_minor": 5
}
