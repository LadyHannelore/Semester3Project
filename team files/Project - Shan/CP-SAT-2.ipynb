{
 "cells": [
  {
   "cell_type": "code",
   "execution_count": 38,
   "id": "0b4e4c65-7a12-481e-aeec-3d2176e024d6",
   "metadata": {},
   "outputs": [
    {
     "name": "stdout",
     "output_type": "stream",
     "text": [
      "✅ Loaded 1000 students\n"
     ]
    }
   ],
   "source": [
    "# Step 1: Preprocessing for CP-SAT Classroom Allocation\n",
    "\n",
    "import pandas as pd\n",
    "\n",
    "# Load your synthetic student dataset\n",
    "df = pd.read_csv(\"synthetic_student_data.csv\")\n",
    "\n",
    "# Add derived features if needed\n",
    "df['Isolation_Score'] = 7 - df['isolated']\n",
    "df['COVID_Score'] = 7 - df['COVID']\n",
    "df['Wellbeing_Score'] = (df['pwi_wellbeing'] + df['Isolation_Score'] + df['COVID_Score']) / 3\n",
    "df['Bullying_Score'] = df['criticises']\n",
    "df['Friendliness_Score'] = df['School_support_engage']\n",
    "df['Student_Index'] = range(len(df))\n",
    "\n",
    "# Use only required fields\n",
    "student_data = df[['Student_Index', 'Academic_Performance', 'Wellbeing_Score', \n",
    "                   'Bullying_Score', 'Friendliness_Score', 'language']]\n",
    "\n",
    "num_students = len(student_data)\n",
    "print(\"✅ Loaded\", num_students, \"students\")\n"
   ]
  },
  {
   "cell_type": "code",
   "execution_count": 39,
   "id": "a00287f7-60c3-420b-8d36-e5c77e3d9004",
   "metadata": {},
   "outputs": [
    {
     "name": "stdout",
     "output_type": "stream",
     "text": [
      "🔧 Using 40 classes of size 25\n"
     ]
    }
   ],
   "source": [
    "from ortools.sat.python import cp_model\n",
    "from collections import defaultdict\n",
    "import math\n",
    "\n",
    "model = cp_model.CpModel()\n",
    "\n",
    "# Class parameters\n",
    "class_size_limit = 25\n",
    "num_classes = math.ceil(num_students / class_size_limit)\n",
    "\n",
    "print(\"🔧 Using\", num_classes, \"classes of size\", class_size_limit)\n",
    "\n",
    "# Create assignment variables\n",
    "student_vars = []\n",
    "for i in range(num_students):\n",
    "    var = model.NewIntVar(0, num_classes - 1, f'student_{i}_class')\n",
    "    student_vars.append(var)\n",
    "\n",
    "# Boolean indicators: student in class\n",
    "class_students = defaultdict(list)\n",
    "for idx, var in enumerate(student_vars):\n",
    "    for cls in range(num_classes):\n",
    "        is_in_class = model.NewBoolVar(f'student_{idx}_is_in_class_{cls}')\n",
    "        model.Add(var == cls).OnlyEnforceIf(is_in_class)\n",
    "        model.Add(var != cls).OnlyEnforceIf(is_in_class.Not())\n",
    "        class_students[cls].append(is_in_class)\n"
   ]
  },
  {
   "cell_type": "code",
   "execution_count": 40,
   "id": "e83dd4d2-16bf-4542-a572-1eeac8abbda4",
   "metadata": {},
   "outputs": [
    {
     "name": "stdout",
     "output_type": "stream",
     "text": [
      "📏 Constraints added: student assignment + fixed class sizes\n"
     ]
    }
   ],
   "source": [
    "# Constraint A: Each student assigned to exactly one class\n",
    "for i in range(num_students):\n",
    "    model.Add(sum(class_students[cls][i] for cls in range(num_classes)) == 1)\n",
    "\n",
    "# Constraint B: Each class has exactly 25 students\n",
    "for cls in range(num_classes):\n",
    "    model.Add(sum(class_students[cls]) == class_size_limit)\n",
    "\n",
    "print(\"📏 Constraints added: student assignment + fixed class sizes\")\n"
   ]
  },
  {
   "cell_type": "code",
   "execution_count": 41,
   "id": "49d0b04c-276b-41af-8788-592e1f3c15f5",
   "metadata": {},
   "outputs": [
    {
     "name": "stdout",
     "output_type": "stream",
     "text": [
      "✅ Solution found!\n"
     ]
    }
   ],
   "source": [
    "# Solve\n",
    "solver = cp_model.CpSolver()\n",
    "status = solver.Solve(model)\n",
    "\n",
    "if status == cp_model.OPTIMAL or status == cp_model.FEASIBLE:\n",
    "    print(\"✅ Solution found!\")\n",
    "else:\n",
    "    print(\"❌ No feasible solution found.\")\n"
   ]
  },
  {
   "cell_type": "code",
   "execution_count": 42,
   "id": "3a55dd07-3035-467a-ab2d-af8573ebea10",
   "metadata": {},
   "outputs": [
    {
     "name": "stdout",
     "output_type": "stream",
     "text": [
      "   StudentID  Assigned_Class\n",
      "0        0.0              19\n",
      "1        1.0              25\n",
      "2        2.0              27\n",
      "3        3.0              28\n",
      "4        4.0              12\n"
     ]
    }
   ],
   "source": [
    "# Step 5: Extract the assigned class for each student\n",
    "\n",
    "student_assignments = []\n",
    "\n",
    "for i in range(num_students):\n",
    "    assigned_class = solver.Value(student_vars[i])\n",
    "    student_assignments.append({\n",
    "        'StudentID': student_data.iloc[i]['Student_Index'],\n",
    "        'Assigned_Class': assigned_class\n",
    "    })\n",
    "\n",
    "assignments_df = pd.DataFrame(student_assignments)\n",
    "print(assignments_df.head())\n"
   ]
  },
  {
   "cell_type": "code",
   "execution_count": 44,
   "id": "19c264fe-d89f-4a3f-968a-165387703fa6",
   "metadata": {},
   "outputs": [
    {
     "name": "stdout",
     "output_type": "stream",
     "text": [
      "   Student_Index  Academic_Performance  Wellbeing_Score  Bullying_Score  \\\n",
      "0              0                    61         5.000000               1   \n",
      "1              1                    53         1.666667               4   \n",
      "2              2                    62         3.000000               1   \n",
      "3              3                    96         3.000000               2   \n",
      "4              4                    68         1.666667               2   \n",
      "\n",
      "   Friendliness_Score  language  Assigned_Class  \n",
      "0                4.50         0              19  \n",
      "1                4.00         1              25  \n",
      "2                4.75         0              27  \n",
      "3                2.75         1              28  \n",
      "4                4.75         0              12  \n",
      "\n",
      "Students per class:\n",
      "Assigned_Class\n",
      "0     25\n",
      "1     25\n",
      "2     25\n",
      "3     25\n",
      "4     25\n",
      "5     25\n",
      "6     25\n",
      "7     25\n",
      "8     25\n",
      "9     25\n",
      "10    25\n",
      "11    25\n",
      "12    25\n",
      "13    25\n",
      "14    25\n",
      "15    25\n",
      "16    25\n",
      "17    25\n",
      "18    25\n",
      "19    25\n",
      "20    25\n",
      "21    25\n",
      "22    25\n",
      "23    25\n",
      "24    25\n",
      "25    25\n",
      "26    25\n",
      "27    25\n",
      "28    25\n",
      "29    25\n",
      "30    25\n",
      "31    25\n",
      "32    25\n",
      "33    25\n",
      "34    25\n",
      "35    25\n",
      "36    25\n",
      "37    25\n",
      "38    25\n",
      "39    25\n",
      "Name: count, dtype: int64\n"
     ]
    }
   ],
   "source": [
    "student_data_with_class = student_data.copy()\n",
    "student_data_with_class['Assigned_Class'] = assignments_df['Assigned_Class']\n",
    "\n",
    "# Show merged data with assigned classes\n",
    "print(student_data_with_class.head())\n",
    "\n",
    "# Optional: check how many students per class\n",
    "print(\"\\nStudents per class:\")\n",
    "print(student_data_with_class['Assigned_Class'].value_counts().sort_index())\n"
   ]
  },
  {
   "cell_type": "code",
   "execution_count": 45,
   "id": "a84aa351-69f8-4005-b28d-88807ba54def",
   "metadata": {},
   "outputs": [
    {
     "name": "stdout",
     "output_type": "stream",
     "text": [
      "✅ Academic Performance Balance constraint added.\n"
     ]
    }
   ],
   "source": [
    "# Step: Academic Performance Balance Constraint\n",
    "\n",
    "max_allowed_difference = 20  # allowed average difference\n",
    "class_academic_scores = {}\n",
    "\n",
    "for cls in range(num_classes):\n",
    "    total_academic = sum(\n",
    "        int(student_data.loc[idx, 'Academic_Performance']) * class_students[cls][idx]\n",
    "        for idx in range(num_students)\n",
    "    )\n",
    "    class_academic_scores[cls] = total_academic\n",
    "\n",
    "# Add constraints: total academic score differences scaled by class size\n",
    "for i in range(num_classes):\n",
    "    for j in range(i + 1, num_classes):\n",
    "        total_i = class_academic_scores[i]\n",
    "        total_j = class_academic_scores[j]\n",
    "\n",
    "        diff = model.NewIntVar(0, 10000, f'total_academic_diff_{i}_{j}')\n",
    "        model.AddAbsEquality(diff, total_i - total_j)\n",
    "\n",
    "        # Allow average diff × class size\n",
    "        model.Add(diff <= max_allowed_difference * class_size_limit)\n",
    "\n",
    "print(\"✅ Academic Performance Balance constraint added.\")\n"
   ]
  },
  {
   "cell_type": "code",
   "execution_count": 46,
   "id": "30059ce8-9b63-40fe-8772-5d134ca0b95c",
   "metadata": {},
   "outputs": [
    {
     "name": "stdout",
     "output_type": "stream",
     "text": [
      "✅ Wellbeing Balance constraint added.\n"
     ]
    }
   ],
   "source": [
    "# Step: Wellbeing Balance Constraint\n",
    "\n",
    "max_allowed_wellbeing_diff = 3\n",
    "class_wellbeing_scores = {}\n",
    "\n",
    "for cls in range(num_classes):\n",
    "    total_wellbeing = sum(\n",
    "        int(student_data.loc[idx, 'Wellbeing_Score']) * class_students[cls][idx]\n",
    "        for idx in range(num_students)\n",
    "    )\n",
    "    class_wellbeing_scores[cls] = total_wellbeing\n",
    "\n",
    "# Pairwise difference constraint\n",
    "for i in range(num_classes):\n",
    "    for j in range(i + 1, num_classes):\n",
    "        total_i = class_wellbeing_scores[i]\n",
    "        total_j = class_wellbeing_scores[j]\n",
    "\n",
    "        diff = model.NewIntVar(0, 10000, f'wellbeing_diff_{i}_{j}')\n",
    "        model.AddAbsEquality(diff, total_i - total_j)\n",
    "        model.Add(diff <= max_allowed_wellbeing_diff * class_size_limit)\n",
    "\n",
    "print(\"✅ Wellbeing Balance constraint added.\")\n"
   ]
  },
  {
   "cell_type": "code",
   "execution_count": 47,
   "id": "1ba89c16-ff22-483f-b064-33132ad39b8e",
   "metadata": {},
   "outputs": [
    {
     "name": "stdout",
     "output_type": "stream",
     "text": [
      "✅ Bullying Spread constraint added.\n"
     ]
    }
   ],
   "source": [
    "# Step: Bullying Spread Constraint\n",
    "\n",
    "max_bullies_per_class = 3\n",
    "bully_threshold = 7\n",
    "\n",
    "for cls in range(num_classes):\n",
    "    bully_vars = []\n",
    "    for idx in range(num_students):\n",
    "        is_bully = student_data.loc[idx, 'Bullying_Score'] >= bully_threshold\n",
    "        if is_bully:\n",
    "            bully_vars.append(class_students[cls][idx])\n",
    "    model.Add(sum(bully_vars) <= max_bullies_per_class)\n",
    "\n",
    "print(\"✅ Bullying Spread constraint added.\")\n"
   ]
  },
  {
   "cell_type": "code",
   "execution_count": 49,
   "id": "03dff454-fbd2-4be2-aa2c-69555cf6505e",
   "metadata": {},
   "outputs": [
    {
     "name": "stdout",
     "output_type": "stream",
     "text": [
      "Mean academic performance per class:\n",
      "Assigned_Class\n",
      "0     68.00\n",
      "1     70.60\n",
      "2     69.36\n",
      "3     69.72\n",
      "4     68.68\n",
      "5     63.96\n",
      "6     72.52\n",
      "7     71.68\n",
      "8     78.00\n",
      "9     72.52\n",
      "10    70.68\n",
      "11    66.64\n",
      "12    74.96\n",
      "13    69.24\n",
      "14    71.88\n",
      "15    72.84\n",
      "16    75.32\n",
      "17    70.88\n",
      "18    65.96\n",
      "19    67.40\n",
      "20    67.52\n",
      "21    67.64\n",
      "22    66.72\n",
      "23    69.04\n",
      "24    70.76\n",
      "25    74.08\n",
      "26    66.28\n",
      "27    72.44\n",
      "28    77.88\n",
      "29    70.56\n",
      "30    73.24\n",
      "31    69.32\n",
      "32    63.96\n",
      "33    70.80\n",
      "34    69.48\n",
      "35    74.32\n",
      "36    71.56\n",
      "37    65.68\n",
      "38    73.52\n",
      "39    68.76\n",
      "Name: Academic_Performance, dtype: float64\n",
      "\n",
      "Mean wellbeing score per class:\n",
      "Assigned_Class\n",
      "0     3.533333\n",
      "1     3.680000\n",
      "2     3.840000\n",
      "3     3.960000\n",
      "4     3.813333\n",
      "5     3.413333\n",
      "6     3.453333\n",
      "7     3.866667\n",
      "8     3.853333\n",
      "9     3.200000\n",
      "10    3.573333\n",
      "11    3.600000\n",
      "12    3.213333\n",
      "13    3.480000\n",
      "14    3.760000\n",
      "15    3.986667\n",
      "16    3.560000\n",
      "17    3.880000\n",
      "18    3.613333\n",
      "19    3.693333\n",
      "20    3.186667\n",
      "21    3.466667\n",
      "22    3.640000\n",
      "23    3.413333\n",
      "24    3.946667\n",
      "25    4.053333\n",
      "26    3.293333\n",
      "27    4.333333\n",
      "28    3.666667\n",
      "29    4.013333\n",
      "30    3.680000\n",
      "31    3.840000\n",
      "32    3.760000\n",
      "33    3.400000\n",
      "34    3.506667\n",
      "35    2.946667\n",
      "36    3.653333\n",
      "37    3.813333\n",
      "38    3.546667\n",
      "39    3.306667\n",
      "Name: Wellbeing_Score, dtype: float64\n",
      "\n",
      "Number of bullies per class:\n",
      "Assigned_Class\n",
      "0     7\n",
      "1     2\n",
      "2     3\n",
      "3     2\n",
      "4     5\n",
      "5     2\n",
      "6     6\n",
      "7     4\n",
      "8     4\n",
      "9     6\n",
      "10    2\n",
      "11    1\n",
      "12    3\n",
      "13    1\n",
      "14    4\n",
      "15    5\n",
      "16    1\n",
      "17    5\n",
      "18    4\n",
      "19    2\n",
      "20    3\n",
      "21    1\n",
      "22    4\n",
      "23    5\n",
      "24    2\n",
      "25    4\n",
      "26    2\n",
      "27    1\n",
      "28    2\n",
      "29    3\n",
      "30    2\n",
      "31    3\n",
      "32    2\n",
      "33    3\n",
      "34    3\n",
      "35    1\n",
      "36    7\n",
      "37    6\n",
      "38    6\n",
      "39    1\n",
      "Name: Is_Bully, dtype: int64\n"
     ]
    }
   ],
   "source": [
    "# Add Is_Bully column because missing\n",
    "student_data_with_class['Is_Bully'] = student_data_with_class['Bullying_Score'] >= 7\n",
    "\n",
    "# Academic balance\n",
    "print(\"Mean academic performance per class:\")\n",
    "print(student_data_with_class.groupby('Assigned_Class')['Academic_Performance'].mean())\n",
    "\n",
    "# Wellbeing balance\n",
    "print(\"\\nMean wellbeing score per class:\")\n",
    "print(student_data_with_class.groupby('Assigned_Class')['Wellbeing_Score'].mean())\n",
    "\n",
    "# Bully count\n",
    "print(\"\\nNumber of bullies per class:\")\n",
    "print(student_data_with_class.groupby('Assigned_Class')['Is_Bully'].sum())\n"
   ]
  },
  {
   "cell_type": "code",
   "execution_count": null,
   "id": "6ddf03aa-963b-4710-bc42-5c666fddfc8a",
   "metadata": {},
   "outputs": [],
   "source": []
  }
 ],
 "metadata": {
  "kernelspec": {
   "display_name": "Python 3 (ipykernel)",
   "language": "python",
   "name": "python3"
  },
  "language_info": {
   "codemirror_mode": {
    "name": "ipython",
    "version": 3
   },
   "file_extension": ".py",
   "mimetype": "text/x-python",
   "name": "python",
   "nbconvert_exporter": "python",
   "pygments_lexer": "ipython3",
   "version": "3.11.7"
  }
 },
 "nbformat": 4,
 "nbformat_minor": 5
}
