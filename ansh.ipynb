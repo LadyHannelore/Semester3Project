{
 "cells": [
  {
   "cell_type": "markdown",
   "id": "bf0db314",
   "metadata": {},
   "source": [
    "Simulate Labels (since synthetic data lacks ground truth):"
   ]
  },
  {
   "cell_type": "code",
   "execution_count": 2,
   "id": "83c5f423",
   "metadata": {},
   "outputs": [
    {
     "ename": "NameError",
     "evalue": "name 'df' is not defined",
     "output_type": "error",
     "traceback": [
      "\u001b[1;31m---------------------------------------------------------------------------\u001b[0m",
      "\u001b[1;31mNameError\u001b[0m                                 Traceback (most recent call last)",
      "Cell \u001b[1;32mIn[2], line 3\u001b[0m\n\u001b[0;32m      1\u001b[0m \u001b[38;5;66;03m# Example: Create proxy labels from synthetic data\u001b[39;00m\n\u001b[0;32m      2\u001b[0m \u001b[38;5;66;03m# Academic Success: 1 if Academic_Performance > 75th percentile, else 0\u001b[39;00m\n\u001b[1;32m----> 3\u001b[0m df[\u001b[38;5;124m'\u001b[39m\u001b[38;5;124mAcademic_Success\u001b[39m\u001b[38;5;124m'\u001b[39m] \u001b[38;5;241m=\u001b[39m (\u001b[43mdf\u001b[49m[\u001b[38;5;124m'\u001b[39m\u001b[38;5;124mAcademic_Performance\u001b[39m\u001b[38;5;124m'\u001b[39m] \u001b[38;5;241m>\u001b[39m df[\u001b[38;5;124m'\u001b[39m\u001b[38;5;124mAcademic_Performance\u001b[39m\u001b[38;5;124m'\u001b[39m]\u001b[38;5;241m.\u001b[39mquantile(\u001b[38;5;241m0.75\u001b[39m))\u001b[38;5;241m.\u001b[39mastype(\u001b[38;5;28mint\u001b[39m)\n\u001b[0;32m      5\u001b[0m \u001b[38;5;66;03m# Wellbeing Decline: 1 if k6_overall > 75th percentile (higher distress)\u001b[39;00m\n\u001b[0;32m      6\u001b[0m df[\u001b[38;5;124m'\u001b[39m\u001b[38;5;124mWellbeing_Decline\u001b[39m\u001b[38;5;124m'\u001b[39m] \u001b[38;5;241m=\u001b[39m (df[\u001b[38;5;124m'\u001b[39m\u001b[38;5;124mk6_overall\u001b[39m\u001b[38;5;124m'\u001b[39m] \u001b[38;5;241m>\u001b[39m df[\u001b[38;5;124m'\u001b[39m\u001b[38;5;124mk6_overall\u001b[39m\u001b[38;5;124m'\u001b[39m]\u001b[38;5;241m.\u001b[39mquantile(\u001b[38;5;241m0.75\u001b[39m))\u001b[38;5;241m.\u001b[39mastype(\u001b[38;5;28mint\u001b[39m)\n",
      "\u001b[1;31mNameError\u001b[0m: name 'df' is not defined"
     ]
    }
   ],
   "source": [
    "# Example: Create proxy labels from synthetic data\n",
    "# Academic Success: 1 if Academic_Performance > 75th percentile, else 0\n",
    "df['Academic_Success'] = (df['Academic_Performance'] > df['Academic_Performance'].quantile(0.75)).astype(int)\n",
    "\n",
    "# Wellbeing Decline: 1 if k6_overall > 75th percentile (higher distress)\n",
    "df['Wellbeing_Decline'] = (df['k6_overall'] > df['k6_overall'].quantile(0.75)).astype(int)\n",
    "\n",
    "# Peer Collaboration: 1 if Friends count > median\n",
    "df['Friends_Count'] = df['Friends'].apply(lambda x: len(str(x).split(', ')) if x else 0)\n",
    "df['Positive_Peer_Collab'] = (df['Friends_Count'] > df['Friends_Count'].median()).astype(int)"
   ]
  },
  {
   "cell_type": "markdown",
   "id": "26b1d7e5",
   "metadata": {},
   "source": [
    "Train Models:"
   ]
  },
  {
   "cell_type": "code",
   "execution_count": null,
   "id": "078b1740",
   "metadata": {},
   "outputs": [],
   "source": [
    "from sklearn.ensemble import RandomForestClassifier\n",
    "from xgboost import XGBClassifier\n",
    "from sklearn.model_selection import train_test_split\n",
    "\n",
    "# Features (adjust based on your dataset)\n",
    "features = [\n",
    "    'Academic_Performance', 'isolated', 'WomenDifferent', 'language',\n",
    "    'pwi_wellbeing', 'GrowthMindset', 'k6_overall', 'Manbox5_overall',\n",
    "    'Masculinity_contrained', 'School_support_engage6', 'School_support_engage'\n",
    "]\n",
    "\n",
    "# Split data\n",
    "X = df[features]\n",
    "y_academic = df['Academic_Success']\n",
    "y_wellbeing = df['Wellbeing_Decline']\n",
    "y_peer = df['Positive_Peer_Collab']\n",
    "\n",
    "# Train models\n",
    "academic_model = XGBClassifier().fit(X, y_academic)\n",
    "wellbeing_model = RandomForestClassifier().fit(X, y_wellbeing)\n",
    "peer_model = XGBClassifier().fit(X, y_peer)\n",
    "\n",
    "# Predict probabilities\n",
    "df['Academic_Risk'] = academic_model.predict_proba(X)[:, 0]  # P(not succeeding)\n",
    "df['Wellbeing_Risk'] = wellbeing_model.predict_proba(X)[:, 1]  # P(decline)\n",
    "df['Peer_Score'] = peer_model.predict_proba(X)[:, 1]  # P(positive collaboration)"
   ]
  },
  {
   "cell_type": "markdown",
   "id": "2c023784",
   "metadata": {},
   "source": [
    "# Clustering-Based Allocation Engine\n",
    "Group students into classes of 30 using their features and predicted risks/scores.\n",
    "\n",
    "Step 1: Feature Engineering"
   ]
  },
  {
   "cell_type": "code",
   "execution_count": null,
   "id": "a2adb4e5",
   "metadata": {},
   "outputs": [],
   "source": [
    "# Combine raw features and predictions\n",
    "cluster_features = features + ['Academic_Risk', 'Wellbeing_Risk', 'Peer_Score']\n",
    "\n",
    "# Add network features (e.g., degree centrality)\n",
    "df['Degree_Centrality'] = df['Friends_Count']  # Simplified example\n",
    "cluster_features += ['Degree_Centrality']"
   ]
  },
  {
   "cell_type": "markdown",
   "id": "cab52605",
   "metadata": {},
   "source": [
    "Step 2: K-Means Clustering\n"
   ]
  },
  {
   "cell_type": "code",
   "execution_count": null,
   "id": "169bf7d7",
   "metadata": {},
   "outputs": [],
   "source": [
    "from sklearn.cluster import KMeans\n",
    "from sklearn.preprocessing import StandardScaler\n",
    "\n",
    "# Scale features\n",
    "scaler = StandardScaler()\n",
    "X_cluster = scaler.fit_transform(df[cluster_features])\n",
    "\n",
    "# Cluster into 334 groups (10,000 / 30 ≈ 334)\n",
    "n_clusters = len(df) // 30\n",
    "kmeans = KMeans(n_clusters=n_clusters, random_state=42)\n",
    "df['Class'] = kmeans.fit_predict(X_cluster)"
   ]
  },
  {
   "cell_type": "markdown",
   "id": "851ebeb4",
   "metadata": {},
   "source": [
    "Step 3: Spectral Clustering (Refinement)\n"
   ]
  },
  {
   "cell_type": "code",
   "execution_count": null,
   "id": "3f7c3e7a",
   "metadata": {},
   "outputs": [],
   "source": [
    "from sklearn.cluster import SpectralClustering\n",
    "\n",
    "# Refine clusters to balance academic/wellbeing risks\n",
    "spectral = SpectralClustering(\n",
    "    n_clusters=n_clusters,\n",
    "    affinity='nearest_neighbors',\n",
    "    random_state=42\n",
    ")\n",
    "df['Class_Refined'] = spectral.fit_predict(X_cluster)"
   ]
  }
 ],
 "metadata": {
  "kernelspec": {
   "display_name": "base",
   "language": "python",
   "name": "python3"
  },
  "language_info": {
   "codemirror_mode": {
    "name": "ipython",
    "version": 3
   },
   "file_extension": ".py",
   "mimetype": "text/x-python",
   "name": "python",
   "nbconvert_exporter": "python",
   "pygments_lexer": "ipython3",
   "version": "3.12.7"
  }
 },
 "nbformat": 4,
 "nbformat_minor": 5
}
