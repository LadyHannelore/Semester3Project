{
 "cells": [
  {
   "cell_type": "code",
   "execution_count": 5,
   "id": "ddb568b7-576b-42da-bd48-836973081976",
   "metadata": {},
   "outputs": [
    {
     "name": "stdout",
     "output_type": "stream",
     "text": [
      "Requirement already satisfied: torch in c:\\users\\bilal\\.conda\\envs\\ortools310\\lib\\site-packages (2.7.0)\n",
      "Requirement already satisfied: torch-geometric in c:\\users\\bilal\\.conda\\envs\\ortools310\\lib\\site-packages (2.6.1)\n",
      "Requirement already satisfied: scikit-learn in c:\\users\\bilal\\.conda\\envs\\ortools310\\lib\\site-packages (1.6.1)\n",
      "Requirement already satisfied: pandas in c:\\users\\bilal\\.conda\\envs\\ortools310\\lib\\site-packages (2.2.3)\n",
      "Requirement already satisfied: networkx in c:\\users\\bilal\\.conda\\envs\\ortools310\\lib\\site-packages (3.4.2)\n",
      "Requirement already satisfied: filelock in c:\\users\\bilal\\.conda\\envs\\ortools310\\lib\\site-packages (from torch) (3.18.0)\n",
      "Requirement already satisfied: typing-extensions>=4.10.0 in c:\\users\\bilal\\.conda\\envs\\ortools310\\lib\\site-packages (from torch) (4.13.2)\n",
      "Requirement already satisfied: sympy>=1.13.3 in c:\\users\\bilal\\.conda\\envs\\ortools310\\lib\\site-packages (from torch) (1.14.0)\n",
      "Requirement already satisfied: jinja2 in c:\\users\\bilal\\.conda\\envs\\ortools310\\lib\\site-packages (from torch) (3.1.6)\n",
      "Requirement already satisfied: fsspec in c:\\users\\bilal\\.conda\\envs\\ortools310\\lib\\site-packages (from torch) (2025.3.2)\n",
      "Requirement already satisfied: aiohttp in c:\\users\\bilal\\.conda\\envs\\ortools310\\lib\\site-packages (from torch-geometric) (3.11.18)\n",
      "Requirement already satisfied: numpy in c:\\users\\bilal\\.conda\\envs\\ortools310\\lib\\site-packages (from torch-geometric) (2.2.5)\n",
      "Requirement already satisfied: psutil>=5.8.0 in c:\\users\\bilal\\.conda\\envs\\ortools310\\lib\\site-packages (from torch-geometric) (7.0.0)\n",
      "Requirement already satisfied: pyparsing in c:\\users\\bilal\\.conda\\envs\\ortools310\\lib\\site-packages (from torch-geometric) (3.2.3)\n",
      "Requirement already satisfied: requests in c:\\users\\bilal\\.conda\\envs\\ortools310\\lib\\site-packages (from torch-geometric) (2.32.3)\n",
      "Requirement already satisfied: tqdm in c:\\users\\bilal\\.conda\\envs\\ortools310\\lib\\site-packages (from torch-geometric) (4.67.1)\n",
      "Requirement already satisfied: scipy>=1.6.0 in c:\\users\\bilal\\.conda\\envs\\ortools310\\lib\\site-packages (from scikit-learn) (1.15.2)\n",
      "Requirement already satisfied: joblib>=1.2.0 in c:\\users\\bilal\\.conda\\envs\\ortools310\\lib\\site-packages (from scikit-learn) (1.4.2)\n",
      "Requirement already satisfied: threadpoolctl>=3.1.0 in c:\\users\\bilal\\.conda\\envs\\ortools310\\lib\\site-packages (from scikit-learn) (3.6.0)\n",
      "Requirement already satisfied: python-dateutil>=2.8.2 in c:\\users\\bilal\\.conda\\envs\\ortools310\\lib\\site-packages (from pandas) (2.9.0.post0)\n",
      "Requirement already satisfied: pytz>=2020.1 in c:\\users\\bilal\\.conda\\envs\\ortools310\\lib\\site-packages (from pandas) (2025.2)\n",
      "Requirement already satisfied: tzdata>=2022.7 in c:\\users\\bilal\\.conda\\envs\\ortools310\\lib\\site-packages (from pandas) (2025.2)\n",
      "Requirement already satisfied: six>=1.5 in c:\\users\\bilal\\.conda\\envs\\ortools310\\lib\\site-packages (from python-dateutil>=2.8.2->pandas) (1.17.0)\n",
      "Requirement already satisfied: mpmath<1.4,>=1.1.0 in c:\\users\\bilal\\.conda\\envs\\ortools310\\lib\\site-packages (from sympy>=1.13.3->torch) (1.3.0)\n",
      "Requirement already satisfied: aiohappyeyeballs>=2.3.0 in c:\\users\\bilal\\.conda\\envs\\ortools310\\lib\\site-packages (from aiohttp->torch-geometric) (2.6.1)\n",
      "Requirement already satisfied: aiosignal>=1.1.2 in c:\\users\\bilal\\.conda\\envs\\ortools310\\lib\\site-packages (from aiohttp->torch-geometric) (1.3.2)\n",
      "Requirement already satisfied: async-timeout<6.0,>=4.0 in c:\\users\\bilal\\.conda\\envs\\ortools310\\lib\\site-packages (from aiohttp->torch-geometric) (5.0.1)\n",
      "Requirement already satisfied: attrs>=17.3.0 in c:\\users\\bilal\\.conda\\envs\\ortools310\\lib\\site-packages (from aiohttp->torch-geometric) (25.3.0)\n",
      "Requirement already satisfied: frozenlist>=1.1.1 in c:\\users\\bilal\\.conda\\envs\\ortools310\\lib\\site-packages (from aiohttp->torch-geometric) (1.6.0)\n",
      "Requirement already satisfied: multidict<7.0,>=4.5 in c:\\users\\bilal\\.conda\\envs\\ortools310\\lib\\site-packages (from aiohttp->torch-geometric) (6.4.3)\n",
      "Requirement already satisfied: propcache>=0.2.0 in c:\\users\\bilal\\.conda\\envs\\ortools310\\lib\\site-packages (from aiohttp->torch-geometric) (0.3.1)\n",
      "Requirement already satisfied: yarl<2.0,>=1.17.0 in c:\\users\\bilal\\.conda\\envs\\ortools310\\lib\\site-packages (from aiohttp->torch-geometric) (1.20.0)\n",
      "Requirement already satisfied: idna>=2.0 in c:\\users\\bilal\\.conda\\envs\\ortools310\\lib\\site-packages (from yarl<2.0,>=1.17.0->aiohttp->torch-geometric) (3.10)\n",
      "Requirement already satisfied: MarkupSafe>=2.0 in c:\\users\\bilal\\.conda\\envs\\ortools310\\lib\\site-packages (from jinja2->torch) (3.0.2)\n",
      "Requirement already satisfied: charset-normalizer<4,>=2 in c:\\users\\bilal\\.conda\\envs\\ortools310\\lib\\site-packages (from requests->torch-geometric) (3.4.2)\n",
      "Requirement already satisfied: urllib3<3,>=1.21.1 in c:\\users\\bilal\\.conda\\envs\\ortools310\\lib\\site-packages (from requests->torch-geometric) (2.4.0)\n",
      "Requirement already satisfied: certifi>=2017.4.17 in c:\\users\\bilal\\.conda\\envs\\ortools310\\lib\\site-packages (from requests->torch-geometric) (2025.4.26)\n",
      "Requirement already satisfied: colorama in c:\\users\\bilal\\.conda\\envs\\ortools310\\lib\\site-packages (from tqdm->torch-geometric) (0.4.6)\n"
     ]
    }
   ],
   "source": [
    "# Install required packages\n",
    "!pip install torch torch-geometric scikit-learn pandas networkx"
   ]
  },
  {
   "cell_type": "code",
   "execution_count": 6,
   "id": "b36d6b22-ecb9-47aa-9e32-5208970a2df0",
   "metadata": {},
   "outputs": [
    {
     "name": "stdout",
     "output_type": "stream",
     "text": [
      "Requirement already satisfied: pip in c:\\users\\bilal\\.conda\\envs\\ortools310\\lib\\site-packages (25.1.1)\n"
     ]
    }
   ],
   "source": [
    "# Upgrade pip\n",
    "!pip install --upgrade pip"
   ]
  },
  {
   "cell_type": "code",
   "execution_count": 7,
   "id": "88b52b18",
   "metadata": {},
   "outputs": [],
   "source": [
    "# All imports in one place\n",
    "import pandas as pd\n",
    "from sklearn.preprocessing import MinMaxScaler\n",
    "import torch\n",
    "from torch_geometric.data import Data\n",
    "import networkx as nx\n",
    "import torch.nn as nn\n",
    "import torch.nn.functional as F\n",
    "from torch_geometric.nn import GCNConv\n",
    "import matplotlib.pyplot as plt\n",
    "from sklearn.cluster import KMeans\n",
    "from sklearn.metrics import silhouette_score"
   ]
  },
  {
   "cell_type": "markdown",
   "id": "87c47986-167e-4c11-b708-778892559fe0",
   "metadata": {},
   "source": [
    "## Load the Data and Preprocess"
   ]
  },
  {
   "cell_type": "code",
   "execution_count": 8,
   "id": "65e7e245-c15b-41ab-8864-72122b9b1482",
   "metadata": {},
   "outputs": [
    {
     "data": {
      "text/html": [
       "<div>\n",
       "<style scoped>\n",
       "    .dataframe tbody tr th:only-of-type {\n",
       "        vertical-align: middle;\n",
       "    }\n",
       "\n",
       "    .dataframe tbody tr th {\n",
       "        vertical-align: top;\n",
       "    }\n",
       "\n",
       "    .dataframe thead th {\n",
       "        text-align: right;\n",
       "    }\n",
       "</style>\n",
       "<table border=\"1\" class=\"dataframe\">\n",
       "  <thead>\n",
       "    <tr style=\"text-align: right;\">\n",
       "      <th></th>\n",
       "      <th>StudentID</th>\n",
       "      <th>Academic_Performance</th>\n",
       "      <th>Wellbeing_Score</th>\n",
       "      <th>Friendliness_Score</th>\n",
       "      <th>Bullying_Score</th>\n",
       "      <th>Composite_Score</th>\n",
       "      <th>Potential_Bully</th>\n",
       "    </tr>\n",
       "  </thead>\n",
       "  <tbody>\n",
       "    <tr>\n",
       "      <th>0</th>\n",
       "      <td>S0001</td>\n",
       "      <td>0.035714</td>\n",
       "      <td>0.2500</td>\n",
       "      <td>0.666667</td>\n",
       "      <td>6</td>\n",
       "      <td>0.141667</td>\n",
       "      <td>True</td>\n",
       "    </tr>\n",
       "    <tr>\n",
       "      <th>1</th>\n",
       "      <td>S0002</td>\n",
       "      <td>0.767857</td>\n",
       "      <td>0.5000</td>\n",
       "      <td>0.476190</td>\n",
       "      <td>1</td>\n",
       "      <td>0.685119</td>\n",
       "      <td>False</td>\n",
       "    </tr>\n",
       "    <tr>\n",
       "      <th>2</th>\n",
       "      <td>S0003</td>\n",
       "      <td>0.285714</td>\n",
       "      <td>0.6250</td>\n",
       "      <td>0.476190</td>\n",
       "      <td>7</td>\n",
       "      <td>0.372619</td>\n",
       "      <td>True</td>\n",
       "    </tr>\n",
       "    <tr>\n",
       "      <th>3</th>\n",
       "      <td>S0004</td>\n",
       "      <td>0.571429</td>\n",
       "      <td>0.8125</td>\n",
       "      <td>0.809524</td>\n",
       "      <td>6</td>\n",
       "      <td>0.643452</td>\n",
       "      <td>True</td>\n",
       "    </tr>\n",
       "    <tr>\n",
       "      <th>4</th>\n",
       "      <td>S0005</td>\n",
       "      <td>0.803571</td>\n",
       "      <td>0.0000</td>\n",
       "      <td>0.809524</td>\n",
       "      <td>3</td>\n",
       "      <td>0.643452</td>\n",
       "      <td>False</td>\n",
       "    </tr>\n",
       "  </tbody>\n",
       "</table>\n",
       "</div>"
      ],
      "text/plain": [
       "  StudentID  Academic_Performance  Wellbeing_Score  Friendliness_Score  \\\n",
       "0     S0001              0.035714           0.2500            0.666667   \n",
       "1     S0002              0.767857           0.5000            0.476190   \n",
       "2     S0003              0.285714           0.6250            0.476190   \n",
       "3     S0004              0.571429           0.8125            0.809524   \n",
       "4     S0005              0.803571           0.0000            0.809524   \n",
       "\n",
       "   Bullying_Score  Composite_Score  Potential_Bully  \n",
       "0               6         0.141667             True  \n",
       "1               1         0.685119            False  \n",
       "2               7         0.372619             True  \n",
       "3               6         0.643452             True  \n",
       "4               3         0.643452            False  "
      ]
     },
     "execution_count": 8,
     "metadata": {},
     "output_type": "execute_result"
    }
   ],
   "source": [
    "# Load the CSV data\n",
    "student_data = pd.read_csv('synthetic_student_data.csv')\n",
    "\n",
    "# Copy data for processing\n",
    "student_data_processed = student_data.copy()\n",
    "\n",
    "# Calculate Wellbeing Score\n",
    "student_data_processed['Wellbeing_Score'] = (\n",
    "    student_data_processed['pwi_wellbeing'] + student_data_processed['k6_overall']\n",
    ") / 2\n",
    "\n",
    "# Friendliness Score\n",
    "student_data_processed['Friendliness_Score'] = student_data_processed['School_support_engage']\n",
    "\n",
    "# Bullying Score\n",
    "student_data_processed['Bullying_Score'] = student_data_processed['criticises']\n",
    "\n",
    "# Normalize selected columns\n",
    "scaler = MinMaxScaler()\n",
    "student_data_processed[['Academic_Performance', 'Wellbeing_Score', 'Friendliness_Score']] = scaler.fit_transform(\n",
    "    student_data_processed[['Academic_Performance', 'Wellbeing_Score', 'Friendliness_Score']]\n",
    ")\n",
    "\n",
    "# Composite Score\n",
    "student_data_processed['Composite_Score'] = (\n",
    "    0.7 * student_data_processed['Academic_Performance'] +\n",
    "    0.2 * student_data_processed['Wellbeing_Score'] +\n",
    "    0.1 * student_data_processed['Friendliness_Score']\n",
    ")\n",
    "\n",
    "# Identify potential bullies\n",
    "student_data_processed['Potential_Bully'] = student_data_processed['Bullying_Score'] > 5\n",
    "\n",
    "# Preview processed data\n",
    "student_data_processed[[\n",
    "    'StudentID', 'Academic_Performance', 'Wellbeing_Score',\n",
    "    'Friendliness_Score', 'Bullying_Score', 'Composite_Score',\n",
    "    'Potential_Bully'\n",
    "]].head()"
   ]
  },
  {
   "cell_type": "markdown",
   "id": "28642e01-4df6-42c8-a12c-aef38cc89c12",
   "metadata": {},
   "source": [
    "## Build the Edge List"
   ]
  },
  {
   "cell_type": "code",
   "execution_count": 9,
   "id": "18fea288-c682-4d5b-8ddd-ebb22ec3a5cf",
   "metadata": {},
   "outputs": [
    {
     "name": "stdout",
     "output_type": "stream",
     "text": [
      "Edge Index Shape: torch.Size([2, 209])\n",
      "Example Edges:\n",
      "tensor([[ 0,  0,  0,  0,  1],\n",
      "        [28,  3, 36,  4, 26]])\n",
      "Example Edges:\n",
      "tensor([[ 0,  0,  0,  0,  1],\n",
      "        [28,  3, 36,  4, 26]])\n"
     ]
    }
   ],
   "source": [
    "# Build a mapping from StudentID to row index\n",
    "student_id_to_idx = {sid: idx for idx, sid in enumerate(student_data_processed['StudentID'])}\n",
    "\n",
    "# Build the edge list\n",
    "edge_index_list = []\n",
    "for idx, row in student_data_processed.iterrows():\n",
    "    if pd.notna(row['Friends']):\n",
    "        friends = row['Friends'].split(', ')\n",
    "        for friend_id in friends:\n",
    "            if friend_id in student_id_to_idx:\n",
    "                edge_index_list.append([idx, student_id_to_idx[friend_id]])\n",
    "\n",
    "# Convert to PyTorch tensor\n",
    "edge_index = torch.tensor(edge_index_list, dtype=torch.long).t().contiguous()\n",
    "\n",
    "print(f\"Edge Index Shape: {edge_index.shape}\")\n",
    "print(f\"Example Edges:\\n{edge_index[:, :5]}\")"
   ]
  },
  {
   "cell_type": "markdown",
   "id": "1c998c48-5755-4cb3-8c30-2fc811df9ab8",
   "metadata": {},
   "source": [
    "## Build Node Features"
   ]
  },
  {
   "cell_type": "code",
   "execution_count": 10,
   "id": "2afeb3d4-a3a7-4d52-a850-49e8ce6406d1",
   "metadata": {},
   "outputs": [
    {
     "name": "stdout",
     "output_type": "stream",
     "text": [
      "Node Feature Shape: torch.Size([50, 5])\n"
     ]
    }
   ],
   "source": [
    "# Select features for node representation\n",
    "node_features = student_data_processed[[\n",
    "    'Academic_Performance', 'Wellbeing_Score',\n",
    "    'Friendliness_Score', 'Bullying_Score',\n",
    "    'Composite_Score'\n",
    "]].values\n",
    "\n",
    "# Convert to PyTorch tensor\n",
    "x = torch.tensor(node_features, dtype=torch.float)\n",
    "\n",
    "print(f\"Node Feature Shape: {x.shape}\")"
   ]
  },
  {
   "cell_type": "markdown",
   "id": "09185ec7-5012-4159-968f-940d94e2c272",
   "metadata": {},
   "source": [
    "## Build GNN Data Object"
   ]
  },
  {
   "cell_type": "code",
   "execution_count": 11,
   "id": "8627326f-51f2-4541-a331-3a0246a0befd",
   "metadata": {},
   "outputs": [
    {
     "name": "stdout",
     "output_type": "stream",
     "text": [
      "Data(x=[50, 5], edge_index=[2, 209])\n"
     ]
    }
   ],
   "source": [
    "# Create PyG Data object\n",
    "data = Data(x=x, edge_index=edge_index)\n",
    "\n",
    "print(data)"
   ]
  },
  {
   "cell_type": "markdown",
   "id": "78d5158a-ad73-41bc-a671-8dc42d0cd418",
   "metadata": {},
   "source": [
    "## Import Necessary GNN Layers"
   ]
  },
  {
   "cell_type": "code",
   "execution_count": 12,
   "id": "e2882658-7755-46b8-9941-26e0110b0b10",
   "metadata": {},
   "outputs": [],
   "source": [
    "# (imports moved to top cell)"
   ]
  },
  {
   "cell_type": "markdown",
   "id": "2bc9165c-4641-4198-81e2-9296bfa034b1",
   "metadata": {},
   "source": [
    "## Define a Simple 2-Layer GCN"
   ]
  },
  {
   "cell_type": "code",
   "execution_count": 13,
   "id": "90c0b8a4-f986-4135-a232-db89dfe958fd",
   "metadata": {},
   "outputs": [],
   "source": [
    "class GCN(nn.Module):\n",
    "    def __init__(self, input_dim, hidden_dim, output_dim):\n",
    "        super().__init__()\n",
    "        self.conv1 = GCNConv(input_dim, hidden_dim)\n",
    "        self.conv2 = GCNConv(hidden_dim, output_dim)\n",
    "\n",
    "    def forward(self, data):\n",
    "        x, edge_index = data.x, data.edge_index\n",
    "        x = self.conv1(x, edge_index)\n",
    "        x = F.relu(x)\n",
    "        x = self.conv2(x, edge_index)\n",
    "        return x"
   ]
  },
  {
   "cell_type": "markdown",
   "id": "75698fdf-d379-4996-9e8d-c0b76b4f28ef",
   "metadata": {},
   "source": [
    "## Initialize Model"
   ]
  },
  {
   "cell_type": "code",
   "execution_count": 14,
   "id": "4ec6a3f1-3bc3-40f5-9336-5f6024de061a",
   "metadata": {},
   "outputs": [],
   "source": [
    "# Initialize model\n",
    "model = GCN(input_dim=5, hidden_dim=16, output_dim=2)\n",
    "\n",
    "# Adam optimizer\n",
    "optimizer = torch.optim.Adam(model.parameters(), lr=0.01)\n",
    "\n",
    "# Dummy loss function (unsupervised)\n",
    "loss_fn = nn.MSELoss()"
   ]
  },
  {
   "cell_type": "code",
   "execution_count": 15,
   "id": "b9ecdfb1-bef0-4d51-a6cd-cbb6b29cbb7d",
   "metadata": {},
   "outputs": [
    {
     "name": "stdout",
     "output_type": "stream",
     "text": [
      "Output Embeddings Shape: torch.Size([50, 2])\n",
      "Example Embedding for Student 0: tensor([-3.4195, -2.2888])\n"
     ]
    }
   ],
   "source": [
    "# Set model to evaluation mode\n",
    "model.eval()\n",
    "\n",
    "# Forward pass\n",
    "with torch.no_grad():\n",
    "    out = model(data)\n",
    "\n",
    "print(\"Output Embeddings Shape:\", out.shape)\n",
    "print(\"Example Embedding for Student 0:\", out[0])"
   ]
  },
  {
   "cell_type": "markdown",
   "id": "ad7d0e13-31fb-4ed9-a1fd-aaedffb016d4",
   "metadata": {},
   "source": [
    "## Visualize the GNN Outputs in 2D"
   ]
  },
  {
   "cell_type": "markdown",
   "id": "38964725-b47d-4712-90f5-aa79e0e3d9c5",
   "metadata": {},
   "source": [
    "## Basic Scatter Plot of Student Embeddings"
   ]
  },
  {
   "cell_type": "code",
   "execution_count": 16,
   "id": "536cb63c-8edc-44e9-b265-f54bbaebf73d",
   "metadata": {},
   "outputs": [
    {
     "data": {
      "image/png": "[encoded data removed]",
      "text/plain": [
       "<Figure size 800x600 with 1 Axes>"
      ]
     },
     "metadata": {},
     "output_type": "display_data"
    }
   ],
   "source": [
    "# Plot the embeddings\n",
    "plt.figure(figsize=(8, 6))\n",
    "plt.scatter(out[:, 0].cpu(), out[:, 1].cpu(), s=20, alpha=0.7)\n",
    "plt.title(\"GNN Embeddings of Students\")\n",
    "plt.xlabel(\"Embedding Dimension 1\")\n",
    "plt.ylabel(\"Embedding Dimension 2\")\n",
    "plt.grid(True)\n",
    "plt.show()"
   ]
  },
  {
   "cell_type": "code",
   "execution_count": 17,
   "id": "d4e2accd-6bfb-4945-8f40-d05862e064bb",
   "metadata": {},
   "outputs": [
    {
     "data": {
      "image/png": "[encoded data removed]",
      "text/plain": [
       "<Figure size 800x600 with 2 Axes>"
      ]
     },
     "metadata": {},
     "output_type": "display_data"
    }
   ],
   "source": [
    "# Color by bully status\n",
    "bully_labels = student_data_processed['Potential_Bully'].astype(int)\n",
    "\n",
    "plt.figure(figsize=(8, 6))\n",
    "scatter = plt.scatter(\n",
    "    out[:, 0].cpu(), out[:, 1].cpu(), c=bully_labels, cmap='coolwarm', s=20, alpha=0.8\n",
    ")\n",
    "plt.title(\"GNN Embeddings - Colored by Bullying Risk\")\n",
    "plt.xlabel(\"Embedding Dimension 1\")\n",
    "plt.ylabel(\"Embedding Dimension 2\")\n",
    "plt.colorbar(scatter, label=\"Potential Bully (0=No, 1=Yes)\")\n",
    "plt.grid(True)\n",
    "plt.show()"
   ]
  },
  {
   "cell_type": "code",
   "execution_count": 18,
   "id": "83dea802-9d82-4c42-b3ed-9e26cb91ea3d",
   "metadata": {},
   "outputs": [
    {
     "data": {
      "text/html": [
       "<div>\n",
       "<style scoped>\n",
       "    .dataframe tbody tr th:only-of-type {\n",
       "        vertical-align: middle;\n",
       "    }\n",
       "\n",
       "    .dataframe tbody tr th {\n",
       "        vertical-align: top;\n",
       "    }\n",
       "\n",
       "    .dataframe thead th {\n",
       "        text-align: right;\n",
       "    }\n",
       "</style>\n",
       "<table border=\"1\" class=\"dataframe\">\n",
       "  <thead>\n",
       "    <tr style=\"text-align: right;\">\n",
       "      <th></th>\n",
       "      <th>StudentID</th>\n",
       "      <th>Assigned_Classroom</th>\n",
       "    </tr>\n",
       "  </thead>\n",
       "  <tbody>\n",
       "    <tr>\n",
       "      <th>0</th>\n",
       "      <td>S0001</td>\n",
       "      <td>4</td>\n",
       "    </tr>\n",
       "    <tr>\n",
       "      <th>1</th>\n",
       "      <td>S0002</td>\n",
       "      <td>0</td>\n",
       "    </tr>\n",
       "    <tr>\n",
       "      <th>2</th>\n",
       "      <td>S0003</td>\n",
       "      <td>8</td>\n",
       "    </tr>\n",
       "    <tr>\n",
       "      <th>3</th>\n",
       "      <td>S0004</td>\n",
       "      <td>3</td>\n",
       "    </tr>\n",
       "    <tr>\n",
       "      <th>4</th>\n",
       "      <td>S0005</td>\n",
       "      <td>8</td>\n",
       "    </tr>\n",
       "  </tbody>\n",
       "</table>\n",
       "</div>"
      ],
      "text/plain": [
       "  StudentID  Assigned_Classroom\n",
       "0     S0001                   4\n",
       "1     S0002                   0\n",
       "2     S0003                   8\n",
       "3     S0004                   3\n",
       "4     S0005                   8"
      ]
     },
     "execution_count": 18,
     "metadata": {},
     "output_type": "execute_result"
    }
   ],
   "source": [
    "# Number of classrooms\n",
    "num_classes = 10\n",
    "\n",
    "# Apply KMeans clustering on GNN outputs\n",
    "kmeans = KMeans(n_clusters=num_classes, random_state=42)\n",
    "student_clusters = kmeans.fit_predict(out.cpu().numpy())\n",
    "\n",
    "# Save classroom assignments\n",
    "student_data_processed['Assigned_Classroom'] = student_clusters\n",
    "\n",
    "# View result\n",
    "student_data_processed[['StudentID', 'Assigned_Classroom']].head()"
   ]
  },
  {
   "cell_type": "code",
   "execution_count": 19,
   "id": "5075b334-1198-4429-b4ff-7ce505a37f7d",
   "metadata": {},
   "outputs": [
    {
     "data": {
      "text/html": [
       "<div>\n",
       "<style scoped>\n",
       "    .dataframe tbody tr th:only-of-type {\n",
       "        vertical-align: middle;\n",
       "    }\n",
       "\n",
       "    .dataframe tbody tr th {\n",
       "        vertical-align: top;\n",
       "    }\n",
       "\n",
       "    .dataframe thead th {\n",
       "        text-align: right;\n",
       "    }\n",
       "</style>\n",
       "<table border=\"1\" class=\"dataframe\">\n",
       "  <thead>\n",
       "    <tr style=\"text-align: right;\">\n",
       "      <th></th>\n",
       "      <th>Academic_Performance</th>\n",
       "      <th>Wellbeing_Score</th>\n",
       "      <th>Friendliness_Score</th>\n",
       "      <th>Potential_Bully</th>\n",
       "      <th>Class_Size</th>\n",
       "    </tr>\n",
       "    <tr>\n",
       "      <th>Assigned_Classroom</th>\n",
       "      <th></th>\n",
       "      <th></th>\n",
       "      <th></th>\n",
       "      <th></th>\n",
       "      <th></th>\n",
       "    </tr>\n",
       "  </thead>\n",
       "  <tbody>\n",
       "    <tr>\n",
       "      <th>0</th>\n",
       "      <td>0.625000</td>\n",
       "      <td>0.475000</td>\n",
       "      <td>0.571429</td>\n",
       "      <td>1</td>\n",
       "      <td>5</td>\n",
       "    </tr>\n",
       "    <tr>\n",
       "      <th>1</th>\n",
       "      <td>0.425000</td>\n",
       "      <td>0.675000</td>\n",
       "      <td>0.695238</td>\n",
       "      <td>0</td>\n",
       "      <td>5</td>\n",
       "    </tr>\n",
       "    <tr>\n",
       "      <th>2</th>\n",
       "      <td>0.392857</td>\n",
       "      <td>0.708333</td>\n",
       "      <td>0.603175</td>\n",
       "      <td>0</td>\n",
       "      <td>3</td>\n",
       "    </tr>\n",
       "    <tr>\n",
       "      <th>3</th>\n",
       "      <td>0.430357</td>\n",
       "      <td>0.475000</td>\n",
       "      <td>0.500000</td>\n",
       "      <td>2</td>\n",
       "      <td>10</td>\n",
       "    </tr>\n",
       "    <tr>\n",
       "      <th>4</th>\n",
       "      <td>0.595238</td>\n",
       "      <td>0.552083</td>\n",
       "      <td>0.571429</td>\n",
       "      <td>4</td>\n",
       "      <td>6</td>\n",
       "    </tr>\n",
       "    <tr>\n",
       "      <th>5</th>\n",
       "      <td>0.178571</td>\n",
       "      <td>0.500000</td>\n",
       "      <td>0.571429</td>\n",
       "      <td>0</td>\n",
       "      <td>1</td>\n",
       "    </tr>\n",
       "    <tr>\n",
       "      <th>6</th>\n",
       "      <td>0.366071</td>\n",
       "      <td>0.640625</td>\n",
       "      <td>0.500000</td>\n",
       "      <td>1</td>\n",
       "      <td>4</td>\n",
       "    </tr>\n",
       "    <tr>\n",
       "      <th>7</th>\n",
       "      <td>0.363095</td>\n",
       "      <td>0.625000</td>\n",
       "      <td>0.539683</td>\n",
       "      <td>1</td>\n",
       "      <td>3</td>\n",
       "    </tr>\n",
       "    <tr>\n",
       "      <th>8</th>\n",
       "      <td>0.359375</td>\n",
       "      <td>0.679688</td>\n",
       "      <td>0.726190</td>\n",
       "      <td>1</td>\n",
       "      <td>8</td>\n",
       "    </tr>\n",
       "    <tr>\n",
       "      <th>9</th>\n",
       "      <td>0.428571</td>\n",
       "      <td>0.462500</td>\n",
       "      <td>0.523810</td>\n",
       "      <td>2</td>\n",
       "      <td>5</td>\n",
       "    </tr>\n",
       "  </tbody>\n",
       "</table>\n",
       "</div>"
      ],
      "text/plain": [
       "                    Academic_Performance  Wellbeing_Score  Friendliness_Score  \\\n",
       "Assigned_Classroom                                                              \n",
       "0                               0.625000         0.475000            0.571429   \n",
       "1                               0.425000         0.675000            0.695238   \n",
       "2                               0.392857         0.708333            0.603175   \n",
       "3                               0.430357         0.475000            0.500000   \n",
       "4                               0.595238         0.552083            0.571429   \n",
       "5                               0.178571         0.500000            0.571429   \n",
       "6                               0.366071         0.640625            0.500000   \n",
       "7                               0.363095         0.625000            0.539683   \n",
       "8                               0.359375         0.679688            0.726190   \n",
       "9                               0.428571         0.462500            0.523810   \n",
       "\n",
       "                    Potential_Bully  Class_Size  \n",
       "Assigned_Classroom                               \n",
       "0                                 1           5  \n",
       "1                                 0           5  \n",
       "2                                 0           3  \n",
       "3                                 2          10  \n",
       "4                                 4           6  \n",
       "5                                 0           1  \n",
       "6                                 1           4  \n",
       "7                                 1           3  \n",
       "8                                 1           8  \n",
       "9                                 2           5  "
      ]
     },
     "execution_count": 19,
     "metadata": {},
     "output_type": "execute_result"
    }
   ],
   "source": [
    "# Average Composite Score per classroom\n",
    "classroom_summary = student_data_processed.groupby('Assigned_Classroom').agg({\n",
    "    'Academic_Performance': 'mean',\n",
    "    'Wellbeing_Score': 'mean',\n",
    "    'Friendliness_Score': 'mean',\n",
    "    'Potential_Bully': 'sum',  # count how many potential bullies\n",
    "    'StudentID': 'count'  # total students\n",
    "}).rename(columns={'StudentID': 'Class_Size'})\n",
    "\n",
    "# Display\n",
    "classroom_summary"
   ]
  },
  {
   "cell_type": "code",
   "execution_count": 20,
   "id": "d5386495",
   "metadata": {},
   "outputs": [
    {
     "name": "stdout",
     "output_type": "stream",
     "text": [
      "Academic Score Difference: 0.45 (Limit: 15)\n",
      "✅ Academic score balance constraint satisfied.\n",
      "Wellbeing Score Difference: 0.25 (Limit: 2)\n",
      "✅ Wellbeing balance constraint satisfied.\n",
      "❌ 1 classroom(s) exceed the bullying constraint.\n",
      "                    Potential_Bully\n",
      "Assigned_Classroom                 \n",
      "4                                 4\n",
      "Class Size Range: 1 - 10 (Diff = 9)\n",
      "✅ Class sizes are reasonably balanced.\n"
     ]
    }
   ],
   "source": [
    "# --- Full Constraint Evaluation After GNN Clustering ---\n",
    "\n",
    "# Constraint Thresholds\n",
    "max_allowed_difference = 15  # Academic score max diff\n",
    "max_allowed_wellbeing_diff = 2  # Wellbeing score max diff\n",
    "max_bullies_per_class = 2  # Max allowed bullies per class\n",
    "\n",
    "# 1. Check Academic Score Balance\n",
    "academic_diff = classroom_summary['Academic_Performance'].max() - classroom_summary['Academic_Performance'].min()\n",
    "print(f\"Academic Score Difference: {academic_diff:.2f} (Limit: {max_allowed_difference})\")\n",
    "if academic_diff > max_allowed_difference:\n",
    "    print(\"❌ Academic score balance constraint violated.\")\n",
    "else:\n",
    "    print(\"✅ Academic score balance constraint satisfied.\")\n",
    "\n",
    "# 2. Check Wellbeing Balance\n",
    "wellbeing_diff = classroom_summary['Wellbeing_Score'].max() - classroom_summary['Wellbeing_Score'].min()\n",
    "print(f\"Wellbeing Score Difference: {wellbeing_diff:.2f} (Limit: {max_allowed_wellbeing_diff})\")\n",
    "if wellbeing_diff > max_allowed_wellbeing_diff:\n",
    "    print(\"❌ Wellbeing balance constraint violated.\")\n",
    "else:\n",
    "    print(\"✅ Wellbeing balance constraint satisfied.\")\n",
    "\n",
    "# 3. Check Bullying Spread Constraint\n",
    "violating_classes = classroom_summary[classroom_summary['Potential_Bully'] > max_bullies_per_class]\n",
    "if not violating_classes.empty:\n",
    "    print(f\"❌ {len(violating_classes)} classroom(s) exceed the bullying constraint.\")\n",
    "    print(violating_classes[['Potential_Bully']])\n",
    "else:\n",
    "    print(\"✅ Bullying spread constraint satisfied.\")\n",
    "\n",
    "# 4. Check Class Size Balance\n",
    "class_sizes = classroom_summary['Class_Size']\n",
    "size_diff = class_sizes.max() - class_sizes.min()\n",
    "print(f\"Class Size Range: {class_sizes.min()} - {class_sizes.max()} (Diff = {size_diff})\")\n",
    "if size_diff > 10:\n",
    "    print(\"⚠️ Warning: Significant difference in class sizes.\")\n",
    "else:\n",
    "    print(\"✅ Class sizes are reasonably balanced.\")"
   ]
  },
  {
   "cell_type": "markdown",
   "id": "aa539c9d",
   "metadata": {},
   "source": [
    "## Encode Constraints into GNN Training\n",
    "We add a custom loss function to penalize constraint violations (academic, wellbeing, bullying, class size) and train the GNN to produce embeddings that satisfy these constraints."
   ]
  },
  {
   "cell_type": "code",
   "execution_count": null,
   "id": "10fe4c92",
   "metadata": {},
   "outputs": [],
   "source": [
    "# Custom constraint loss function\n",
    "def constraint_loss(student_data, classroom_assignments, num_classes):\n",
    "    df = student_data.copy()\n",
    "    df['Assigned_Classroom'] = classroom_assignments\n",
    "    summary = df.groupby('Assigned_Classroom').agg({\n",
    "        'Academic_Performance': 'mean',\n",
    "        'Wellbeing_Score': 'mean',\n",
    "        'Potential_Bully': 'sum',\n",
    "        'StudentID': 'count'\n",
    "    }).rename(columns={'StudentID': 'Class_Size'})\n",
    "    # Constraint thresholds\n",
    "    max_academic_diff = 15\n",
    "    max_wellbeing_diff = 2\n",
    "    max_bullies = 2\n",
    "    max_class_size_diff = 10\n",
    "    # Calculate constraint violations\n",
    "    academic_diff = summary['Academic_Performance'].max() - summary['Academic_Performance'].min()\n",
    "    wellbeing_diff = summary['Wellbeing_Score'].max() - summary['Wellbeing_Score'].min()\n",
    "    bullies_violation = (summary['Potential_Bully'] - max_bullies).clip(lower=0).sum()\n",
    "    class_size_diff = summary['Class_Size'].max() - summary['Class_Size'].min()\n",
    "    # Loss is sum of violations (scaled)\n",
    "    loss = 0.0\n",
    "    loss += torch.relu(torch.tensor(academic_diff - max_academic_diff, dtype=torch.float))\n",
    "    loss += torch.relu(torch.tensor(wellbeing_diff - max_wellbeing_diff, dtype=torch.float))\n",
    "    loss += torch.tensor(bullies_violation, dtype=torch.float)\n",
    "    loss += torch.relu(torch.tensor(class_size_diff - max_class_size_diff, dtype=torch.float)) * 0.1\n",
    "    return loss"
   ]
  },
  {
   "cell_type": "code",
   "execution_count": null,
   "id": "e2958c9f",
   "metadata": {},
   "outputs": [],
   "source": [
    "# Training loop with constraint loss\n",
    "epochs = 50\n",
    "for epoch in range(epochs):\n",
    "    model.train()\n",
    "    optimizer.zero_grad()\n",
    "    out = model(data)\n",
    "    # Cluster embeddings\n",
    "    kmeans = KMeans(n_clusters=10, random_state=42)\n",
    "    clusters = kmeans.fit_predict(out.detach().cpu().numpy())\n",
    "    # Calculate constraint loss\n",
    "    loss = constraint_loss(student_data_processed, clusters, 10)\n",
    "    loss.backward()\n",
    "    optimizer.step()\n",
    "    if epoch % 10 == 0:\n",
    "        print(f\"Epoch {epoch}: Constraint Loss = {loss.item():.4f}\")"
   ]
  },
  {
   "cell_type": "markdown",
   "id": "0923e632",
   "metadata": {},
   "source": [
    "## Check and Print Positive Output if Constraints Satisfied"
   ]
  },
  {
   "cell_type": "code",
   "execution_count": null,
   "id": "446d0bb9",
   "metadata": {},
   "outputs": [],
   "source": [
    "# Final check after training\n",
    "model.eval()\n",
    "with torch.no_grad():\n",
    "    out = model(data)\n",
    "kmeans = KMeans(n_clusters=10, random_state=42)\n",
    "clusters = kmeans.fit_predict(out.cpu().numpy())\n",
    "student_data_processed['Assigned_Classroom'] = clusters\n",
    "classroom_summary = student_data_processed.groupby('Assigned_Classroom').agg({\n",
    "    'Academic_Performance': 'mean',\n",
    "    'Wellbeing_Score': 'mean',\n",
    "    'Potential_Bully': 'sum',\n",
    "    'StudentID': 'count'\n",
    "}).rename(columns={'StudentID': 'Class_Size'})\n",
    "academic_diff = classroom_summary['Academic_Performance'].max() - classroom_summary['Academic_Performance'].min()\n",
    "wellbeing_diff = classroom_summary['Wellbeing_Score'].max() - classroom_summary['Wellbeing_Score'].min()\n",
    "bullies_violation = (classroom_summary['Potential_Bully'] > 2).sum()\n",
    "class_size_diff = classroom_summary['Class_Size'].max() - classroom_summary['Class_Size'].min()\n",
    "if academic_diff <= 15 and wellbeing_diff <= 2 and bullies_violation == 0 and class_size_diff <= 10:\n",
    "    print(\"✅ All constraints satisfied! The GNN output is positive and respects your constraints.\")\n",
    "else:\n",
    "    print(\"❌ Some constraints are still violated. Consider tuning the model or loss weights.\")"
   ]
  },
  {
   "cell_type": "code",
   "execution_count": 21,
   "id": "9aea310f-bffd-4d96-a90b-a61491739b1c",
   "metadata": {},
   "outputs": [
    {
     "data": {
      "text/html": [
       "<div>\n",
       "<style scoped>\n",
       "    .dataframe tbody tr th:only-of-type {\n",
       "        vertical-align: middle;\n",
       "    }\n",
       "\n",
       "    .dataframe tbody tr th {\n",
       "        vertical-align: top;\n",
       "    }\n",
       "\n",
       "    .dataframe thead th {\n",
       "        text-align: right;\n",
       "    }\n",
       "</style>\n",
       "<table border=\"1\" class=\"dataframe\">\n",
       "  <thead>\n",
       "    <tr style=\"text-align: right;\">\n",
       "      <th></th>\n",
       "      <th>StudentID</th>\n",
       "      <th>Assigned_Classroom</th>\n",
       "    </tr>\n",
       "  </thead>\n",
       "  <tbody>\n",
       "    <tr>\n",
       "      <th>0</th>\n",
       "      <td>S0001</td>\n",
       "      <td>4</td>\n",
       "    </tr>\n",
       "    <tr>\n",
       "      <th>1</th>\n",
       "      <td>S0002</td>\n",
       "      <td>0</td>\n",
       "    </tr>\n",
       "    <tr>\n",
       "      <th>2</th>\n",
       "      <td>S0003</td>\n",
       "      <td>8</td>\n",
       "    </tr>\n",
       "    <tr>\n",
       "      <th>3</th>\n",
       "      <td>S0004</td>\n",
       "      <td>3</td>\n",
       "    </tr>\n",
       "    <tr>\n",
       "      <th>4</th>\n",
       "      <td>S0005</td>\n",
       "      <td>8</td>\n",
       "    </tr>\n",
       "  </tbody>\n",
       "</table>\n",
       "</div>"
      ],
      "text/plain": [
       "  StudentID  Assigned_Classroom\n",
       "0     S0001                   4\n",
       "1     S0002                   0\n",
       "2     S0003                   8\n",
       "3     S0004                   3\n",
       "4     S0005                   8"
      ]
     },
     "execution_count": 21,
     "metadata": {},
     "output_type": "execute_result"
    }
   ],
   "source": [
    "# Set number of classrooms\n",
    "num_classes = 10\n",
    "\n",
    "# Apply KMeans clustering on GNN output embeddings\n",
    "kmeans = KMeans(n_clusters=num_classes, random_state=42)\n",
    "student_clusters = kmeans.fit_predict(out.cpu().numpy())\n",
    "\n",
    "# Add classroom assignment to the dataframe\n",
    "student_data_processed['Assigned_Classroom'] = student_clusters\n",
    "\n",
    "# View some samples\n",
    "student_data_processed[['StudentID', 'Assigned_Classroom']].head()"
   ]
  },
  {
   "cell_type": "code",
   "execution_count": 22,
   "id": "a6bfe6f2-b141-4de5-9df4-438f9ca48ed6",
   "metadata": {},
   "outputs": [
    {
     "data": {
      "text/html": [
       "<div>\n",
       "<style scoped>\n",
       "    .dataframe tbody tr th:only-of-type {\n",
       "        vertical-align: middle;\n",
       "    }\n",
       "\n",
       "    .dataframe tbody tr th {\n",
       "        vertical-align: top;\n",
       "    }\n",
       "\n",
       "    .dataframe thead th {\n",
       "        text-align: right;\n",
       "    }\n",
       "</style>\n",
       "<table border=\"1\" class=\"dataframe\">\n",
       "  <thead>\n",
       "    <tr style=\"text-align: right;\">\n",
       "      <th></th>\n",
       "      <th>Academic_Performance</th>\n",
       "      <th>Wellbeing_Score</th>\n",
       "      <th>Friendliness_Score</th>\n",
       "      <th>Potential_Bully</th>\n",
       "      <th>Class_Size</th>\n",
       "    </tr>\n",
       "    <tr>\n",
       "      <th>Assigned_Classroom</th>\n",
       "      <th></th>\n",
       "      <th></th>\n",
       "      <th></th>\n",
       "      <th></th>\n",
       "      <th></th>\n",
       "    </tr>\n",
       "  </thead>\n",
       "  <tbody>\n",
       "    <tr>\n",
       "      <th>0</th>\n",
       "      <td>0.625000</td>\n",
       "      <td>0.475000</td>\n",
       "      <td>0.571429</td>\n",
       "      <td>1</td>\n",
       "      <td>5</td>\n",
       "    </tr>\n",
       "    <tr>\n",
       "      <th>1</th>\n",
       "      <td>0.425000</td>\n",
       "      <td>0.675000</td>\n",
       "      <td>0.695238</td>\n",
       "      <td>0</td>\n",
       "      <td>5</td>\n",
       "    </tr>\n",
       "    <tr>\n",
       "      <th>2</th>\n",
       "      <td>0.392857</td>\n",
       "      <td>0.708333</td>\n",
       "      <td>0.603175</td>\n",
       "      <td>0</td>\n",
       "      <td>3</td>\n",
       "    </tr>\n",
       "    <tr>\n",
       "      <th>3</th>\n",
       "      <td>0.430357</td>\n",
       "      <td>0.475000</td>\n",
       "      <td>0.500000</td>\n",
       "      <td>2</td>\n",
       "      <td>10</td>\n",
       "    </tr>\n",
       "    <tr>\n",
       "      <th>4</th>\n",
       "      <td>0.595238</td>\n",
       "      <td>0.552083</td>\n",
       "      <td>0.571429</td>\n",
       "      <td>4</td>\n",
       "      <td>6</td>\n",
       "    </tr>\n",
       "    <tr>\n",
       "      <th>5</th>\n",
       "      <td>0.178571</td>\n",
       "      <td>0.500000</td>\n",
       "      <td>0.571429</td>\n",
       "      <td>0</td>\n",
       "      <td>1</td>\n",
       "    </tr>\n",
       "    <tr>\n",
       "      <th>6</th>\n",
       "      <td>0.366071</td>\n",
       "      <td>0.640625</td>\n",
       "      <td>0.500000</td>\n",
       "      <td>1</td>\n",
       "      <td>4</td>\n",
       "    </tr>\n",
       "    <tr>\n",
       "      <th>7</th>\n",
       "      <td>0.363095</td>\n",
       "      <td>0.625000</td>\n",
       "      <td>0.539683</td>\n",
       "      <td>1</td>\n",
       "      <td>3</td>\n",
       "    </tr>\n",
       "    <tr>\n",
       "      <th>8</th>\n",
       "      <td>0.359375</td>\n",
       "      <td>0.679688</td>\n",
       "      <td>0.726190</td>\n",
       "      <td>1</td>\n",
       "      <td>8</td>\n",
       "    </tr>\n",
       "    <tr>\n",
       "      <th>9</th>\n",
       "      <td>0.428571</td>\n",
       "      <td>0.462500</td>\n",
       "      <td>0.523810</td>\n",
       "      <td>2</td>\n",
       "      <td>5</td>\n",
       "    </tr>\n",
       "  </tbody>\n",
       "</table>\n",
       "</div>"
      ],
      "text/plain": [
       "                    Academic_Performance  Wellbeing_Score  Friendliness_Score  \\\n",
       "Assigned_Classroom                                                              \n",
       "0                               0.625000         0.475000            0.571429   \n",
       "1                               0.425000         0.675000            0.695238   \n",
       "2                               0.392857         0.708333            0.603175   \n",
       "3                               0.430357         0.475000            0.500000   \n",
       "4                               0.595238         0.552083            0.571429   \n",
       "5                               0.178571         0.500000            0.571429   \n",
       "6                               0.366071         0.640625            0.500000   \n",
       "7                               0.363095         0.625000            0.539683   \n",
       "8                               0.359375         0.679688            0.726190   \n",
       "9                               0.428571         0.462500            0.523810   \n",
       "\n",
       "                    Potential_Bully  Class_Size  \n",
       "Assigned_Classroom                               \n",
       "0                                 1           5  \n",
       "1                                 0           5  \n",
       "2                                 0           3  \n",
       "3                                 2          10  \n",
       "4                                 4           6  \n",
       "5                                 0           1  \n",
       "6                                 1           4  \n",
       "7                                 1           3  \n",
       "8                                 1           8  \n",
       "9                                 2           5  "
      ]
     },
     "execution_count": 22,
     "metadata": {},
     "output_type": "execute_result"
    }
   ],
   "source": [
    "# Summarize classroom stats\n",
    "classroom_summary = student_data_processed.groupby('Assigned_Classroom').agg({\n",
    "    'Academic_Performance': 'mean',\n",
    "    'Wellbeing_Score': 'mean',\n",
    "    'Friendliness_Score': 'mean',\n",
    "    'Potential_Bully': 'sum',  # how many bullies in each class\n",
    "    'StudentID': 'count'  # class size\n",
    "}).rename(columns={'StudentID': 'Class_Size'})\n",
    "\n",
    "# Show summary\n",
    "classroom_summary"
   ]
  },
  {
   "cell_type": "code",
   "execution_count": 23,
   "id": "8374744f-c167-40da-b480-49b07765ff36",
   "metadata": {},
   "outputs": [
    {
     "data": {
      "image/png": "[encoded data removed]",
      "text/plain": [
       "<Figure size 1000x600 with 1 Axes>"
      ]
     },
     "metadata": {},
     "output_type": "display_data"
    }
   ],
   "source": [
    "import matplotlib.pyplot as plt\n",
    "\n",
    "plt.figure(figsize=(10, 6))\n",
    "plt.bar(classroom_summary.index, classroom_summary['Academic_Performance'], color='skyblue')\n",
    "plt.title('Average Academic Performance per Classroom')\n",
    "plt.xlabel('Classroom')\n",
    "plt.ylabel('Academic Performance (normalized)')\n",
    "plt.grid(axis='y')\n",
    "plt.show()"
   ]
  },
  {
   "cell_type": "code",
   "execution_count": 24,
   "id": "1c48d7bb-fa8d-4936-a252-9d714b207c6b",
   "metadata": {},
   "outputs": [
    {
     "data": {
      "image/png": "[encoded data removed]",
      "text/plain": [
       "<Figure size 1000x600 with 1 Axes>"
      ]
     },
     "metadata": {},
     "output_type": "display_data"
    }
   ],
   "source": [
    "plt.figure(figsize=(10, 6))\n",
    "plt.bar(classroom_summary.index, classroom_summary['Wellbeing_Score'], color='lightgreen')\n",
    "plt.title('Average Wellbeing Score per Classroom')\n",
    "plt.xlabel('Classroom')\n",
    "plt.ylabel('Wellbeing Score (normalized)')\n",
    "plt.grid(axis='y')\n",
    "plt.show()"
   ]
  },
  {
   "cell_type": "code",
   "execution_count": 25,
   "id": "86683529-c0b5-4f8e-b1c3-8885e23fcf27",
   "metadata": {},
   "outputs": [
    {
     "data": {
      "image/png": "[encoded data removed]",
      "text/plain": [
       "<Figure size 1000x600 with 1 Axes>"
      ]
     },
     "metadata": {},
     "output_type": "display_data"
    }
   ],
   "source": [
    "plt.figure(figsize=(10, 6))\n",
    "plt.bar(classroom_summary.index, classroom_summary['Potential_Bully'], color='salmon')\n",
    "plt.title('Potential Bullies per Classroom')\n",
    "plt.xlabel('Classroom')\n",
    "plt.ylabel('Number of Potential Bullies')\n",
    "plt.grid(axis='y')\n",
    "plt.show()"
   ]
  },
  {
   "cell_type": "code",
   "execution_count": 26,
   "id": "45ff60fd-11ad-4fb9-9a94-1fc683039cee",
   "metadata": {},
   "outputs": [
    {
     "name": "stdout",
     "output_type": "stream",
     "text": [
      "Silhouette Score for GNN + KMeans Grouping: 0.5578\n"
     ]
    }
   ],
   "source": [
    "# Calculate silhouette score based on GNN embeddings and assigned classroom\n",
    "sil_score = silhouette_score(out.cpu().numpy(), student_data_processed['Assigned_Classroom'])\n",
    "print(f\"Silhouette Score for GNN + KMeans Grouping: {sil_score:.4f}\")"
   ]
  },
  {
   "cell_type": "code",
   "execution_count": 27,
   "id": "6a9acaa1-d560-4c9c-b4a6-0365f396a526",
   "metadata": {},
   "outputs": [
    {
     "name": "stdout",
     "output_type": "stream",
     "text": [
      "Standard Deviation Across Classrooms:\n",
      "Academic_Performance    0.125458\n",
      "Wellbeing_Score         0.096703\n",
      "Friendliness_Score      0.076733\n",
      "dtype: float64\n"
     ]
    }
   ],
   "source": [
    "# Calculate std deviation across classrooms\n",
    "classroom_variance = classroom_summary[[\n",
    "    'Academic_Performance', 'Wellbeing_Score', 'Friendliness_Score'\n",
    "]].std()\n",
    "\n",
    "print(\"Standard Deviation Across Classrooms:\")\n",
    "print(classroom_variance)"
   ]
  },
  {
   "cell_type": "code",
   "execution_count": 28,
   "id": "e1c4b7b8-b0bf-4ed1-b122-87e4318da2f3",
   "metadata": {},
   "outputs": [],
   "source": [
    "# (Empty cell for future use)"
   ]
  }
 ],
 "metadata": {
  "kernelspec": {
   "display_name": "ortools310",
   "language": "python",
   "name": "python3"
  },
  "language_info": {
   "codemirror_mode": {
    "name": "ipython",
    "version": 3
   },
   "file_extension": ".py",
   "mimetype": "text/x-python",
   "name": "python",
   "nbconvert_exporter": "python",
   "pygments_lexer": "ipython3",
   "version": "3.10.16"
  }
 },
 "nbformat": 4,
 "nbformat_minor": 5
}
