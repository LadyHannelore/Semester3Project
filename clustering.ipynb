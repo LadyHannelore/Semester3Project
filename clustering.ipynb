{
 "cells": [
  {
   "cell_type": "markdown",
   "id": "d3a4e808",
   "metadata": {},
   "source": [
    "Preprocess Data:\n",
    "\n",
    "Standardize numerical features (e.g., Academic_Performance, k6_overall).\n",
    "\n",
    "Encode categorical features (e.g., SchoolActivityNet as one-hot encoded columns)."
   ]
  },
  {
   "cell_type": "code",
   "execution_count": 1,
   "id": "2a8ea96e",
   "metadata": {},
   "outputs": [],
   "source": [
    "import pandas as pd\n",
    "from sklearn.preprocessing import StandardScaler, OneHotEncoder\n",
    "from sklearn.decomposition import PCA\n",
    "from sklearn.cluster import KMeans\n",
    "\n",
    "# Load data\n",
    "df = pd.read_csv(\"synthetic_student_data.csv\")\n",
    "\n",
    "# Preprocess categorical data (activities)\n",
    "activities_split = df[\"SchoolActivityNet\"].str.get_dummies(\", \")\n",
    "df = pd.concat([df, activities_split], axis=1)\n",
    "\n",
    "# Drop non-feature columns (StudentID, network columns)\n",
    "feature_cols = [\n",
    "    'Academic_Performance', 'isolated', 'WomenDifferent', 'language',\n",
    "    'pwi_wellbeing', 'GrowthMindset', 'k6_overall', 'Manbox5_overall',\n",
    "    'Masculinity_contrained', 'School_support_engage6', 'School_support_engage'\n",
    "] + activities_split.columns.tolist()\n",
    "\n",
    "X = df[feature_cols]\n",
    "\n",
    "# Standardize numerical features\n",
    "scaler = StandardScaler()\n",
    "X_scaled = scaler.fit_transform(X)\n",
    "\n",
    "# Reduce dimensionality (optional but recommended for high-dimensional data)\n",
    "pca = PCA(n_components=0.95)  # Keep 95% variance\n",
    "X_pca = pca.fit_transform(X_scaled)"
   ]
  },
  {
   "cell_type": "markdown",
   "id": "16148d90",
   "metadata": {},
   "source": [
    "Cluster Students:\n",
    "\n",
    "Use K-means to group students into n_clusters = NUM_STUDENTS // 30 (e.g., 34 clusters for 1,000 students).\n",
    "\n",
    "Assign each student to a cluster (class)."
   ]
  },
  {
   "cell_type": "code",
   "execution_count": 2,
   "id": "43dea18b",
   "metadata": {},
   "outputs": [],
   "source": [
    "NUM_STUDENTS = len(df)\n",
    "n_clusters = (NUM_STUDENTS // 30) + (1 if NUM_STUDENTS % 30 != 0 else 0)\n",
    "\n",
    "kmeans = KMeans(n_clusters=n_clusters, random_state=42)\n",
    "df[\"Class\"] = kmeans.fit_predict(X_pca)"
   ]
  },
  {
   "cell_type": "markdown",
   "id": "ac1d984d",
   "metadata": {},
   "source": [
    "Balance Class Sizes:\n",
    "\n",
    "Ensure each cluster has ~30 students. Adjust using cluster_size checks."
   ]
  },
  {
   "cell_type": "code",
   "execution_count": 3,
   "id": "517951ba",
   "metadata": {},
   "outputs": [],
   "source": [
    "# Check cluster sizes\n",
    "class_sizes = df[\"Class\"].value_counts().sort_index()\n",
    "\n",
    "# If clusters are uneven, redistribute students\n",
    "# (Example: Split oversized clusters)\n",
    "for class_id in class_sizes[class_sizes > 30].index:\n",
    "    excess = class_sizes[class_id] - 30\n",
    "    students_to_move = df[df[\"Class\"] == class_id].sample(excess, random_state=42)\n",
    "    df.loc[students_to_move.index, \"Class\"] = df[\"Class\"].max() + 1"
   ]
  },
  {
   "cell_type": "markdown",
   "id": "1b71c5c3",
   "metadata": {},
   "source": [
    "Validate Diversity:\n",
    "\n",
    "Check key metrics (e.g., academic performance, wellbeing) across classes to ensure balance."
   ]
  },
  {
   "cell_type": "code",
   "execution_count": 4,
   "id": "a9f0421f",
   "metadata": {},
   "outputs": [
    {
     "name": "stdout",
     "output_type": "stream",
     "text": [
      "       Academic_Performance  k6_overall  GrowthMindset\n",
      "Class                                                 \n",
      "0                 78.714286   17.380952       3.857143\n",
      "1                 73.233333   13.233333       4.083333\n",
      "2                 72.900000   14.733333       3.733333\n",
      "3                 85.478261   16.434783       4.608696\n",
      "4                 80.133333   18.166667       4.816667\n",
      "...                     ...         ...            ...\n",
      "465               73.222222   19.888889       4.333333\n",
      "466               60.666667   19.666667       3.500000\n",
      "467               79.461538   19.923077       5.230769\n",
      "468               63.500000   19.500000       5.000000\n",
      "469               79.428571   18.142857       4.714286\n",
      "\n",
      "[470 rows x 3 columns]\n"
     ]
    }
   ],
   "source": [
    "# Example: Compare means across classes\n",
    "class_stats = df.groupby(\"Class\")[['Academic_Performance', 'k6_overall', 'GrowthMindset']].mean()\n",
    "print(class_stats)"
   ]
  }
 ],
 "metadata": {
  "kernelspec": {
   "display_name": "base",
   "language": "python",
   "name": "python3"
  },
  "language_info": {
   "codemirror_mode": {
    "name": "ipython",
    "version": 3
   },
   "file_extension": ".py",
   "mimetype": "text/x-python",
   "name": "python",
   "nbconvert_exporter": "python",
   "pygments_lexer": "ipython3",
   "version": "3.12.7"
  }
 },
 "nbformat": 4,
 "nbformat_minor": 5
}
